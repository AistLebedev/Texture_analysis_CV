{
 "cells": [
  {
   "cell_type": "markdown",
   "id": "232329c8-f21d-49fb-bc8e-16d089a74c9a",
   "metadata": {},
   "source": [
    "ktn_tips_2b"
   ]
  },
  {
   "cell_type": "code",
   "execution_count": 1,
   "id": "c0eb9799-6332-47fe-89af-0a2d1f6703c3",
   "metadata": {},
   "outputs": [],
   "source": [
    "import time \n",
    "start_alltime = time.time()## точка отсчета времени\n",
    "import cv2\n",
    "import numpy as np\n",
    "import os as os\n",
    "import pandas as pd\n",
    "from sklearn.model_selection import train_test_split, GridSearchCV\n",
    "from sklearn import svm\n",
    "from sklearn.metrics import *\n",
    "from sklearn import preprocessing\n",
    "from scipy import ndimage as ndi\n",
    "from sklearn.neighbors import KNeighborsClassifier"
   ]
  },
  {
   "cell_type": "code",
   "execution_count": 2,
   "id": "c0aea64d-38fb-4649-ac96-8067821f4360",
   "metadata": {},
   "outputs": [],
   "source": [
    "def build_filters():  # построение фильтров\n",
    "    filters = []\n",
    "    ksize = 11\n",
    "    sigma = 8.0\n",
    "    lambd = 10.0\n",
    "    gamma = 0.5\n",
    "    psi = 0\n",
    "    for theta in np.arange(0, np.pi, np.pi / 16):\n",
    "        kern = cv2.getGaborKernel((ksize, ksize), sigma, theta, lambd, gamma, psi, ktype=cv2.CV_32F)\n",
    "        kern /= 1.5 * kern.sum()\n",
    "        filters.append(kern)\n",
    "    return filters\n",
    "\n",
    "\n",
    "def process(img, filters):  # применение фильтров к фото\n",
    "    accum = np.zeros_like(img)\n",
    "    for kern in filters:\n",
    "        fimg = cv2.filter2D(img, cv2.CV_8UC3, kern)\n",
    "        np.maximum(accum, fimg, accum)\n",
    "        return accum\n",
    "\n",
    "\n",
    "def compute_feats(image, kernels):  # Применение для фичей\n",
    "    feats = np.zeros((len(kernels), 1), dtype=np.double)\n",
    "    for k, kernel in enumerate(kernels):\n",
    "        filtered = ndi.convolve(image, kernel, mode='wrap')\n",
    "        # feats[k, 0] = filtered.mean() #среднее\n",
    "        feats[k, 0] = filtered.var()  # дисперсия\n",
    "    return feats\n",
    "\n",
    "\n",
    "def extract_gab(images):  # Это применение к фичи\n",
    "    gabs = []\n",
    "    for image in images:\n",
    "        gab = compute_feats(image, filters)\n",
    "        gabs.append(gab)\n",
    "\n",
    "    return np.array(gabs)"
   ]
  },
  {
   "cell_type": "markdown",
   "id": "e885e088-709b-4dac-aa67-7538b0af3dbe",
   "metadata": {
    "tags": []
   },
   "source": [
    "## Загрузка изображений и перевод их в массивы ##"
   ]
  },
  {
   "cell_type": "code",
   "execution_count": 3,
   "id": "73dba0dc-9021-4f50-a635-69d10af89ce8",
   "metadata": {},
   "outputs": [],
   "source": [
    "def LaP_images(path):\n",
    "    images = []\n",
    "    filenames = os.listdir(path)\n",
    "    for filename in filenames:    \n",
    "        image = cv2.imread(os.path.join(path, filename),0)\n",
    "        image = cv2.resize(image, dsize=(150,150))\n",
    "        images.append(image)\n",
    "    return np.array(images)"
   ]
  },
  {
   "cell_type": "code",
   "execution_count": 4,
   "id": "65f84f19-b03d-4f2e-bab3-3c802f4ea53d",
   "metadata": {},
   "outputs": [],
   "source": [
    "start_LaP_time = time.time()## точка отсчета времени\n",
    "foil_train_dir = os.getcwd() + \"\\\\Desert\"\n",
    "corduroy_train_dir = os.getcwd() + \"\\\\DenseResidential\"\n",
    "cork_train_dir = os.getcwd() + \"\\\\Forest\"\n",
    "catton_train_dir = os.getcwd() + \"\\\\Meadow\"\n",
    "linen_train_dir = os.getcwd() + \"\\\\River\""
   ]
  },
  {
   "cell_type": "code",
   "execution_count": 5,
   "id": "7f64bae6-a79f-4b02-b8e2-f85b3d599bc0",
   "metadata": {},
   "outputs": [],
   "source": [
    "foil_train_list = LaP_images(foil_train_dir)\n",
    "corduroy_train_list = LaP_images(corduroy_train_dir)\n",
    "cork_train_list = LaP_images(cork_train_dir)\n",
    "catton_train_list = LaP_images(catton_train_dir)\n",
    "linen_train_list = LaP_images(linen_train_dir)"
   ]
  },
  {
   "cell_type": "code",
   "execution_count": 6,
   "id": "18386797-bda3-48f2-81d6-56a9d558ff93",
   "metadata": {},
   "outputs": [
    {
     "name": "stdout",
     "output_type": "stream",
     "text": [
      "150\n",
      "217\n",
      "217\n",
      "217\n",
      "217\n",
      "217\n"
     ]
    }
   ],
   "source": [
    "print(len(foil_train_list[1]))\n",
    "print(len(foil_train_list))\n",
    "print(len(corduroy_train_list))\n",
    "print(len(cork_train_list))\n",
    "print(len(catton_train_list))\n",
    "print(len(linen_train_list))"
   ]
  },
  {
   "cell_type": "markdown",
   "id": "d15ac244-1152-4abf-b09d-d690820da2b8",
   "metadata": {
    "tags": []
   },
   "source": [
    "\n",
    "## Формируем общий датафрейм и вытаскиваем признаки ##"
   ]
  },
  {
   "cell_type": "code",
   "execution_count": 7,
   "id": "84ab67a7-cbe2-4a92-bfca-739b179f1e4a",
   "metadata": {},
   "outputs": [
    {
     "name": "stdout",
     "output_type": "stream",
     "text": [
      "(1085, 150, 150) Shape before extract\n"
     ]
    }
   ],
   "source": [
    "start_EX_time = time.time()## точка отсчета времени\n",
    "all_images = np.vstack((foil_train_list,\n",
    "                        corduroy_train_list,\n",
    "                        cork_train_list,\n",
    "                        catton_train_list,\n",
    "                        linen_train_list\n",
    "                        ))\n",
    "print(all_images.shape,\"Shape before extract\")"
   ]
  },
  {
   "cell_type": "code",
   "execution_count": 8,
   "id": "3a61d13b-6761-4cf3-9b3e-57a1ed4c4a46",
   "metadata": {},
   "outputs": [
    {
     "name": "stdout",
     "output_type": "stream",
     "text": [
      "--- 3.2459490299224854 seconds Load and preprocessing ---\n"
     ]
    }
   ],
   "source": [
    "labels = []\n",
    "for i in range(len(foil_train_list)):\n",
    "    labels.append(0)\n",
    "for i in range(len(corduroy_train_list)):\n",
    "    labels.append(1)\n",
    "for i in range(len(cork_train_list)):\n",
    "    labels.append(2)\n",
    "for i in range(len(catton_train_list)):\n",
    "    labels.append(3)\n",
    "for i in range(len(linen_train_list)):\n",
    "    labels.append(4)\n",
    "    \n",
    "labels = np.array(labels)\n",
    "print(\"--- %s seconds Load and preprocessing ---\" % (time.time() - start_LaP_time)) ## вывод время работы программы"
   ]
  },
  {
   "cell_type": "markdown",
   "id": "567b564c-291b-4525-b28c-c72d158e1586",
   "metadata": {},
   "source": [
    "> cv2.getGaborKernel(ksize, sigma, theta, lambda, gamma, psi, ktype) <br>\n",
    "> ksize - size of gabor filter (n, n) <br>\n",
    "> sigma - standard deviation of the gaussian function <br>\n",
    "> theta - orientation of the normal to the parallel stripes <br>\n",
    "> lambda - wavelength of the sunusoidal factor <br>\n",
    "> gamma - spatial aspect ratio <br>\n",
    "> psi - phase offset <br>\n",
    "> ktype - type and range of values that each pixel in the gabor kernel can hold <br>"
   ]
  },
  {
   "cell_type": "code",
   "execution_count": 9,
   "id": "027f56cf-835f-4b42-8560-1f8cefbf5368",
   "metadata": {},
   "outputs": [],
   "source": [
    "filters = build_filters()"
   ]
  },
  {
   "cell_type": "code",
   "execution_count": 10,
   "id": "604b0391-094d-4d96-9faa-7eb291268187",
   "metadata": {},
   "outputs": [
    {
     "data": {
      "text/plain": [
       "16"
      ]
     },
     "execution_count": 10,
     "metadata": {},
     "output_type": "execute_result"
    }
   ],
   "source": [
    "len(filters)"
   ]
  },
  {
   "cell_type": "code",
   "execution_count": 11,
   "id": "625d64dc-cab7-4552-8c15-7210aad0f2b4",
   "metadata": {},
   "outputs": [],
   "source": [
    "X_all_gab = extract_gab(all_images)\n"
   ]
  },
  {
   "cell_type": "code",
   "execution_count": 12,
   "id": "c8a68e91-21b2-4d48-bb2e-066843899e6d",
   "metadata": {},
   "outputs": [
    {
     "name": "stdout",
     "output_type": "stream",
     "text": [
      "--- 36.465126037597656 seconds EX ---\n"
     ]
    }
   ],
   "source": [
    "print(\"--- %s seconds EX ---\" % (time.time() - start_EX_time)) ## вывод время работы программы"
   ]
  },
  {
   "cell_type": "code",
   "execution_count": 13,
   "id": "c7ec00c1-fd88-42c8-a77f-f1a427f40f73",
   "metadata": {},
   "outputs": [
    {
     "data": {
      "text/plain": [
       "(1085, 16, 1)"
      ]
     },
     "execution_count": 13,
     "metadata": {},
     "output_type": "execute_result"
    }
   ],
   "source": [
    "X_all_gab.shape"
   ]
  },
  {
   "cell_type": "markdown",
   "id": "7635c8f1-8368-4dbf-80ac-cf17f8eca084",
   "metadata": {},
   "source": [
    "## Объединение признаков одного фото в один массив и преобразования в датасет для классификации ##"
   ]
  },
  {
   "cell_type": "code",
   "execution_count": 14,
   "id": "14e9f82e-7919-45e1-ab6f-c2b2dd007b42",
   "metadata": {},
   "outputs": [],
   "source": [
    "def create_histograms(images):\n",
    "    all_histograms = []\n",
    "    for i in images:\n",
    "        histogram = np.ravel(i)\n",
    "        all_histograms.append(histogram)\n",
    "    return np.array(all_histograms)"
   ]
  },
  {
   "cell_type": "code",
   "execution_count": 15,
   "id": "36873319-8683-47a7-9f6a-11fbc4e862fd",
   "metadata": {},
   "outputs": [
    {
     "name": "stdout",
     "output_type": "stream",
     "text": [
      "X_all_hist\t (1085, 16)\n"
     ]
    }
   ],
   "source": [
    "start_HIST_time = time.time()## точка отсчета времени\n",
    "X_all_hist = create_histograms(X_all_gab)\n",
    "\n",
    "\n",
    "print('X_all_hist\\t', X_all_hist.shape)\n",
    "\n"
   ]
  },
  {
   "cell_type": "code",
   "execution_count": 16,
   "id": "6000ad69-0986-4cd9-936a-50994e9997a7",
   "metadata": {},
   "outputs": [],
   "source": [
    "col = ['GT_th_0.0_sig_4_mean',\n",
    "  'GT_th_0.0_sig_4_var',\n",
    "  'GT_th_0.0_sig_8_mean',\n",
    "  'GT_th_0.0_sig_8_var',\n",
    "  'GT_th_1.0_sig_4_mean',\n",
    "  'GT_th_1.0_sig_4_var',\n",
    "  'GT_th_1.0_sig_8_mean',\n",
    "  'GT_th_1.0_sig_8_var',\n",
    "  'GT_th_2.0_sig_4_mean',\n",
    "  'GT_th_2.0_sig_4_var',\n",
    "  'GT_th_2.0_sig_8_mean',\n",
    "  'GT_th_2.0_sig_8_var',\n",
    "  'GT_th_3.0_sig_4_mean',\n",
    "  'GT_th_3.0_sig_4_var',\n",
    "  'GT_th_3.0_sig_8_mean',\n",
    "  'GT_th_3.0_sig_8_var']"
   ]
  },
  {
   "cell_type": "code",
   "execution_count": 17,
   "id": "8b52a256-4a97-4929-929a-ea62830b6ead",
   "metadata": {},
   "outputs": [],
   "source": [
    "result = pd.DataFrame(data = X_all_hist,columns = col)"
   ]
  },
  {
   "cell_type": "code",
   "execution_count": 18,
   "id": "61b05836-631a-4161-b287-7747c69a7f95",
   "metadata": {},
   "outputs": [],
   "source": [
    "#result['target'] = labels"
   ]
  },
  {
   "cell_type": "markdown",
   "id": "f67fef0e-e893-4e18-92ab-fca31b3eaafa",
   "metadata": {},
   "source": [
    "## Обучение классификатора ##"
   ]
  },
  {
   "cell_type": "code",
   "execution_count": 19,
   "id": "ec949c4c-36a3-4a1d-b5ef-7f7d4ec31aa4",
   "metadata": {},
   "outputs": [],
   "source": [
    "X = result\n",
    "\n",
    "scaler = preprocessing.StandardScaler().fit(X)\n",
    "X_scaled = scaler.transform(X)\n",
    "\n",
    "Y = labels\n",
    "\n",
    "X_train, X_test, Y_train, Y_test = train_test_split(X_scaled, Y, test_size = 0.30)"
   ]
  },
  {
   "cell_type": "code",
   "execution_count": 20,
   "id": "3e0ed2f8-9435-4568-9127-58e640623f30",
   "metadata": {},
   "outputs": [
    {
     "name": "stdout",
     "output_type": "stream",
     "text": [
      "Fitting 5 folds for each of 9 candidates, totalling 45 fits\n",
      "--- 0.8177425861358643 seconds SVM+GridSearch fit ---\n"
     ]
    }
   ],
   "source": [
    "start_SVM_time = time.time()## точка отсчета времени\n",
    "clf_svm = svm.SVC()\n",
    "param_grid = {'C':[350,400,450],'gamma':[0.1,0.5,1.0]} #param_grid = {'C':[50,100,150],'gamma':[0.5,1,1.5],'kernel':['rbf','poly']}\n",
    "grid_search_svm_clf=GridSearchCV(clf_svm,param_grid, refit = True, verbose=1)\n",
    "grid_search_svm_clf.fit(X_train, Y_train)\n",
    "print(\"--- %s seconds SVM+GridSearch fit ---\" % (time.time() - start_SVM_time)) ## вывод время работы программы"
   ]
  },
  {
   "cell_type": "code",
   "execution_count": 21,
   "id": "c15d9b7c-d3a7-416d-8f96-909d0a02bc00",
   "metadata": {},
   "outputs": [
    {
     "data": {
      "text/html": [
       "<style>#sk-container-id-1 {color: black;background-color: white;}#sk-container-id-1 pre{padding: 0;}#sk-container-id-1 div.sk-toggleable {background-color: white;}#sk-container-id-1 label.sk-toggleable__label {cursor: pointer;display: block;width: 100%;margin-bottom: 0;padding: 0.3em;box-sizing: border-box;text-align: center;}#sk-container-id-1 label.sk-toggleable__label-arrow:before {content: \"▸\";float: left;margin-right: 0.25em;color: #696969;}#sk-container-id-1 label.sk-toggleable__label-arrow:hover:before {color: black;}#sk-container-id-1 div.sk-estimator:hover label.sk-toggleable__label-arrow:before {color: black;}#sk-container-id-1 div.sk-toggleable__content {max-height: 0;max-width: 0;overflow: hidden;text-align: left;background-color: #f0f8ff;}#sk-container-id-1 div.sk-toggleable__content pre {margin: 0.2em;color: black;border-radius: 0.25em;background-color: #f0f8ff;}#sk-container-id-1 input.sk-toggleable__control:checked~div.sk-toggleable__content {max-height: 200px;max-width: 100%;overflow: auto;}#sk-container-id-1 input.sk-toggleable__control:checked~label.sk-toggleable__label-arrow:before {content: \"▾\";}#sk-container-id-1 div.sk-estimator input.sk-toggleable__control:checked~label.sk-toggleable__label {background-color: #d4ebff;}#sk-container-id-1 div.sk-label input.sk-toggleable__control:checked~label.sk-toggleable__label {background-color: #d4ebff;}#sk-container-id-1 input.sk-hidden--visually {border: 0;clip: rect(1px 1px 1px 1px);clip: rect(1px, 1px, 1px, 1px);height: 1px;margin: -1px;overflow: hidden;padding: 0;position: absolute;width: 1px;}#sk-container-id-1 div.sk-estimator {font-family: monospace;background-color: #f0f8ff;border: 1px dotted black;border-radius: 0.25em;box-sizing: border-box;margin-bottom: 0.5em;}#sk-container-id-1 div.sk-estimator:hover {background-color: #d4ebff;}#sk-container-id-1 div.sk-parallel-item::after {content: \"\";width: 100%;border-bottom: 1px solid gray;flex-grow: 1;}#sk-container-id-1 div.sk-label:hover label.sk-toggleable__label {background-color: #d4ebff;}#sk-container-id-1 div.sk-serial::before {content: \"\";position: absolute;border-left: 1px solid gray;box-sizing: border-box;top: 0;bottom: 0;left: 50%;z-index: 0;}#sk-container-id-1 div.sk-serial {display: flex;flex-direction: column;align-items: center;background-color: white;padding-right: 0.2em;padding-left: 0.2em;position: relative;}#sk-container-id-1 div.sk-item {position: relative;z-index: 1;}#sk-container-id-1 div.sk-parallel {display: flex;align-items: stretch;justify-content: center;background-color: white;position: relative;}#sk-container-id-1 div.sk-item::before, #sk-container-id-1 div.sk-parallel-item::before {content: \"\";position: absolute;border-left: 1px solid gray;box-sizing: border-box;top: 0;bottom: 0;left: 50%;z-index: -1;}#sk-container-id-1 div.sk-parallel-item {display: flex;flex-direction: column;z-index: 1;position: relative;background-color: white;}#sk-container-id-1 div.sk-parallel-item:first-child::after {align-self: flex-end;width: 50%;}#sk-container-id-1 div.sk-parallel-item:last-child::after {align-self: flex-start;width: 50%;}#sk-container-id-1 div.sk-parallel-item:only-child::after {width: 0;}#sk-container-id-1 div.sk-dashed-wrapped {border: 1px dashed gray;margin: 0 0.4em 0.5em 0.4em;box-sizing: border-box;padding-bottom: 0.4em;background-color: white;}#sk-container-id-1 div.sk-label label {font-family: monospace;font-weight: bold;display: inline-block;line-height: 1.2em;}#sk-container-id-1 div.sk-label-container {text-align: center;}#sk-container-id-1 div.sk-container {/* jupyter's `normalize.less` sets `[hidden] { display: none; }` but bootstrap.min.css set `[hidden] { display: none !important; }` so we also need the `!important` here to be able to override the default hidden behavior on the sphinx rendered scikit-learn.org. See: https://github.com/scikit-learn/scikit-learn/issues/21755 */display: inline-block !important;position: relative;}#sk-container-id-1 div.sk-text-repr-fallback {display: none;}</style><div id=\"sk-container-id-1\" class=\"sk-top-container\"><div class=\"sk-text-repr-fallback\"><pre>SVC(C=350, gamma=0.1)</pre><b>In a Jupyter environment, please rerun this cell to show the HTML representation or trust the notebook. <br />On GitHub, the HTML representation is unable to render, please try loading this page with nbviewer.org.</b></div><div class=\"sk-container\" hidden><div class=\"sk-item\"><div class=\"sk-estimator sk-toggleable\"><input class=\"sk-toggleable__control sk-hidden--visually\" id=\"sk-estimator-id-1\" type=\"checkbox\" checked><label for=\"sk-estimator-id-1\" class=\"sk-toggleable__label sk-toggleable__label-arrow\">SVC</label><div class=\"sk-toggleable__content\"><pre>SVC(C=350, gamma=0.1)</pre></div></div></div></div></div>"
      ],
      "text/plain": [
       "SVC(C=350, gamma=0.1)"
      ]
     },
     "execution_count": 21,
     "metadata": {},
     "output_type": "execute_result"
    }
   ],
   "source": [
    "grid_search_svm_clf.best_estimator_"
   ]
  },
  {
   "cell_type": "code",
   "execution_count": 22,
   "id": "5ffac500-df0e-41dc-afa9-fb383e9d035c",
   "metadata": {},
   "outputs": [
    {
     "name": "stdout",
     "output_type": "stream",
     "text": [
      "Accuracy: 0.8159509202453987\n",
      "              precision    recall  f1-score   support\n",
      "\n",
      "           0       0.76      0.97      0.85        58\n",
      "           1       0.85      0.86      0.85        64\n",
      "           2       0.83      0.81      0.82        77\n",
      "           3       0.80      0.63      0.71        65\n",
      "           4       0.85      0.84      0.85        62\n",
      "\n",
      "    accuracy                           0.82       326\n",
      "   macro avg       0.82      0.82      0.81       326\n",
      "weighted avg       0.82      0.82      0.81       326\n",
      "\n",
      "--- 0.011010408401489258 seconds Predict time ---\n"
     ]
    }
   ],
   "source": [
    "start_PR_time = time.time()## точка отсчета времени\n",
    "best_svm = grid_search_svm_clf.best_estimator_\n",
    "Y_pred_svm = best_svm.predict(X_test)\n",
    "print(\"Accuracy:\",accuracy_score(Y_test, Y_pred_svm))\n",
    "print(classification_report(Y_test, Y_pred_svm))\n",
    "print(\"--- %s seconds Predict time ---\" % (time.time() - start_PR_time)) ## вывод время работы программы"
   ]
  },
  {
   "cell_type": "code",
   "execution_count": 23,
   "id": "2c574128-dd3e-4524-ba60-128c2bcb98a3",
   "metadata": {},
   "outputs": [
    {
     "name": "stdout",
     "output_type": "stream",
     "text": [
      "--- 41.330546855926514 seconds ALL ---\n"
     ]
    }
   ],
   "source": [
    "print(\"--- %s seconds ALL ---\" % (time.time() - start_alltime)) ## вывод время работы программы"
   ]
  },
  {
   "cell_type": "code",
   "execution_count": 24,
   "id": "cad1864f-4e22-460b-833c-a33de4726e58",
   "metadata": {},
   "outputs": [
    {
     "name": "stdout",
     "output_type": "stream",
     "text": [
      "KNN train acc\t: 1.0\n",
      "KNN test acc\t: 0.7730061349693251\n",
      "--- 0.09608697891235352 seconds KNN ---\n"
     ]
    }
   ],
   "source": [
    "start_KNN_time = time.time()## точка отсчета времени\n",
    "\n",
    "model_knn = KNeighborsClassifier(n_neighbors=1)\n",
    "model_knn.fit(X_train, Y_train)\n",
    "\n",
    "print('KNN train acc\\t:', model_knn.score(X_train, Y_train))\n",
    "print('KNN test acc\\t:', model_knn.score(X_test, Y_test))\n",
    "\n",
    "print(\"--- %s seconds KNN ---\" % (time.time() - start_KNN_time)) ## вывод время работы программы"
   ]
  },
  {
   "cell_type": "code",
   "execution_count": 25,
   "id": "7d022079-cf5a-41a7-90b1-fd4a72f96d42",
   "metadata": {},
   "outputs": [],
   "source": [
    "start_TEST_time = time.time()## точка отсчета времени\n",
    "\n",
    "foil_test_dir = os.getcwd() + \"\\\\Desert_test\"\n",
    "corduroy_test_dir = os.getcwd() + \"\\\\DenseResidential_test\"\n",
    "cork_test_dir = os.getcwd() + \"\\\\Forest_test\"\n",
    "catton_test_dir = os.getcwd() + \"\\\\Meadow_test\"\n",
    "linen_test_dir = os.getcwd() + \"\\\\River_test\"\n",
    "\n",
    "\n",
    "foil_test_list = LaP_images(foil_test_dir)\n",
    "corduroy_test_list = LaP_images(corduroy_test_dir)\n",
    "cork_test_list = LaP_images(cork_test_dir)\n",
    "catton_test_list = LaP_images(catton_test_dir)\n",
    "linen_test_list = LaP_images(linen_test_dir)\n",
    "\n",
    "\n",
    "all_test_images = np.vstack((foil_test_list,\n",
    "                        corduroy_test_list,\n",
    "                        cork_test_list,\n",
    "                        catton_test_list,\n",
    "                        linen_test_list\n",
    "                        ))\n",
    "\n",
    "labels_test = []\n",
    "for i in range(len(foil_test_list)):\n",
    "    labels_test.append(0)\n",
    "for i in range(len(corduroy_test_list)):\n",
    "    labels_test.append(1)\n",
    "for i in range(len(cork_test_list)):\n",
    "    labels_test.append(2)\n",
    "for i in range(len(catton_test_list)):\n",
    "    labels_test.append(3)\n",
    "for i in range(len(linen_test_list)):\n",
    "    labels_test.append(4)\n",
    "\n",
    "    \n",
    "labels_test = np.array(labels_test)"
   ]
  },
  {
   "cell_type": "code",
   "execution_count": 26,
   "id": "cfcd4abe-52f1-4758-b5a1-1ca3ed8e7cc9",
   "metadata": {},
   "outputs": [
    {
     "data": {
      "text/plain": [
       "(1085, 16, 1)"
      ]
     },
     "execution_count": 26,
     "metadata": {},
     "output_type": "execute_result"
    }
   ],
   "source": [
    "X_test_gab = extract_gab(all_test_images)\n",
    "X_all_gab.shape"
   ]
  },
  {
   "cell_type": "code",
   "execution_count": 27,
   "id": "9638cc6c-eebf-48e7-a099-57db3cfd6549",
   "metadata": {},
   "outputs": [],
   "source": [
    "X_test_hist = create_histograms(X_test_gab)"
   ]
  },
  {
   "cell_type": "code",
   "execution_count": 28,
   "id": "0d2e258f-e944-4b52-809b-512f6ddad25b",
   "metadata": {},
   "outputs": [],
   "source": [
    "result_test = pd.DataFrame(data = X_test_hist,columns = col)"
   ]
  },
  {
   "cell_type": "code",
   "execution_count": 29,
   "id": "89056471-523f-4679-8039-9a19c8f94c81",
   "metadata": {},
   "outputs": [
    {
     "data": {
      "text/html": [
       "<div>\n",
       "<style scoped>\n",
       "    .dataframe tbody tr th:only-of-type {\n",
       "        vertical-align: middle;\n",
       "    }\n",
       "\n",
       "    .dataframe tbody tr th {\n",
       "        vertical-align: top;\n",
       "    }\n",
       "\n",
       "    .dataframe thead th {\n",
       "        text-align: right;\n",
       "    }\n",
       "</style>\n",
       "<table border=\"1\" class=\"dataframe\">\n",
       "  <thead>\n",
       "    <tr style=\"text-align: right;\">\n",
       "      <th></th>\n",
       "      <th>GT_th_0.0_sig_4_mean</th>\n",
       "      <th>GT_th_0.0_sig_4_var</th>\n",
       "      <th>GT_th_0.0_sig_8_mean</th>\n",
       "      <th>GT_th_0.0_sig_8_var</th>\n",
       "      <th>GT_th_1.0_sig_4_mean</th>\n",
       "      <th>GT_th_1.0_sig_4_var</th>\n",
       "      <th>GT_th_1.0_sig_8_mean</th>\n",
       "      <th>GT_th_1.0_sig_8_var</th>\n",
       "      <th>GT_th_2.0_sig_4_mean</th>\n",
       "      <th>GT_th_2.0_sig_4_var</th>\n",
       "      <th>GT_th_2.0_sig_8_mean</th>\n",
       "      <th>GT_th_2.0_sig_8_var</th>\n",
       "      <th>GT_th_3.0_sig_4_mean</th>\n",
       "      <th>GT_th_3.0_sig_4_var</th>\n",
       "      <th>GT_th_3.0_sig_8_mean</th>\n",
       "      <th>GT_th_3.0_sig_8_var</th>\n",
       "    </tr>\n",
       "  </thead>\n",
       "  <tbody>\n",
       "    <tr>\n",
       "      <th>0</th>\n",
       "      <td>62.517614</td>\n",
       "      <td>305.514206</td>\n",
       "      <td>301.636696</td>\n",
       "      <td>87.827362</td>\n",
       "      <td>78.720991</td>\n",
       "      <td>121.897097</td>\n",
       "      <td>657.458894</td>\n",
       "      <td>928.255688</td>\n",
       "      <td>151.102095</td>\n",
       "      <td>335.709199</td>\n",
       "      <td>105.315994</td>\n",
       "      <td>22.019745</td>\n",
       "      <td>18.297699</td>\n",
       "      <td>23.234923</td>\n",
       "      <td>102.277867</td>\n",
       "      <td>212.104132</td>\n",
       "    </tr>\n",
       "    <tr>\n",
       "      <th>1</th>\n",
       "      <td>364.516917</td>\n",
       "      <td>1192.308071</td>\n",
       "      <td>698.526823</td>\n",
       "      <td>125.456955</td>\n",
       "      <td>98.120296</td>\n",
       "      <td>162.978616</td>\n",
       "      <td>1291.866463</td>\n",
       "      <td>2895.510571</td>\n",
       "      <td>963.596078</td>\n",
       "      <td>3359.425523</td>\n",
       "      <td>2129.442562</td>\n",
       "      <td>304.645951</td>\n",
       "      <td>188.257369</td>\n",
       "      <td>235.761633</td>\n",
       "      <td>1137.700246</td>\n",
       "      <td>1502.566433</td>\n",
       "    </tr>\n",
       "    <tr>\n",
       "      <th>2</th>\n",
       "      <td>66.404161</td>\n",
       "      <td>306.202799</td>\n",
       "      <td>233.685265</td>\n",
       "      <td>60.532162</td>\n",
       "      <td>57.516987</td>\n",
       "      <td>109.289832</td>\n",
       "      <td>831.654380</td>\n",
       "      <td>1506.621874</td>\n",
       "      <td>305.688427</td>\n",
       "      <td>778.971981</td>\n",
       "      <td>208.961631</td>\n",
       "      <td>26.638395</td>\n",
       "      <td>19.266656</td>\n",
       "      <td>26.254364</td>\n",
       "      <td>129.615832</td>\n",
       "      <td>242.488571</td>\n",
       "    </tr>\n",
       "    <tr>\n",
       "      <th>3</th>\n",
       "      <td>478.073022</td>\n",
       "      <td>2159.645241</td>\n",
       "      <td>1668.201264</td>\n",
       "      <td>391.395853</td>\n",
       "      <td>352.264063</td>\n",
       "      <td>657.435075</td>\n",
       "      <td>3782.524056</td>\n",
       "      <td>4669.283715</td>\n",
       "      <td>1726.584144</td>\n",
       "      <td>3380.912374</td>\n",
       "      <td>1432.654672</td>\n",
       "      <td>205.853786</td>\n",
       "      <td>145.124956</td>\n",
       "      <td>203.526156</td>\n",
       "      <td>1056.967766</td>\n",
       "      <td>1706.005919</td>\n",
       "    </tr>\n",
       "    <tr>\n",
       "      <th>4</th>\n",
       "      <td>475.109105</td>\n",
       "      <td>1437.862613</td>\n",
       "      <td>722.345907</td>\n",
       "      <td>94.257551</td>\n",
       "      <td>56.299454</td>\n",
       "      <td>71.365387</td>\n",
       "      <td>360.193257</td>\n",
       "      <td>611.440982</td>\n",
       "      <td>150.595686</td>\n",
       "      <td>710.476027</td>\n",
       "      <td>485.007087</td>\n",
       "      <td>98.721635</td>\n",
       "      <td>79.571196</td>\n",
       "      <td>134.161038</td>\n",
       "      <td>886.158662</td>\n",
       "      <td>1552.159091</td>\n",
       "    </tr>\n",
       "    <tr>\n",
       "      <th>...</th>\n",
       "      <td>...</td>\n",
       "      <td>...</td>\n",
       "      <td>...</td>\n",
       "      <td>...</td>\n",
       "      <td>...</td>\n",
       "      <td>...</td>\n",
       "      <td>...</td>\n",
       "      <td>...</td>\n",
       "      <td>...</td>\n",
       "      <td>...</td>\n",
       "      <td>...</td>\n",
       "      <td>...</td>\n",
       "      <td>...</td>\n",
       "      <td>...</td>\n",
       "      <td>...</td>\n",
       "      <td>...</td>\n",
       "    </tr>\n",
       "    <tr>\n",
       "      <th>160</th>\n",
       "      <td>1665.175788</td>\n",
       "      <td>3427.846992</td>\n",
       "      <td>3833.622406</td>\n",
       "      <td>1953.198588</td>\n",
       "      <td>1058.133938</td>\n",
       "      <td>1726.894052</td>\n",
       "      <td>3693.325889</td>\n",
       "      <td>3126.915462</td>\n",
       "      <td>1546.824557</td>\n",
       "      <td>2232.571784</td>\n",
       "      <td>1673.490656</td>\n",
       "      <td>663.229656</td>\n",
       "      <td>333.855040</td>\n",
       "      <td>415.530234</td>\n",
       "      <td>1504.431301</td>\n",
       "      <td>2636.775221</td>\n",
       "    </tr>\n",
       "    <tr>\n",
       "      <th>161</th>\n",
       "      <td>2392.708456</td>\n",
       "      <td>3906.278914</td>\n",
       "      <td>2926.146517</td>\n",
       "      <td>942.969171</td>\n",
       "      <td>658.449548</td>\n",
       "      <td>1061.431995</td>\n",
       "      <td>2726.663638</td>\n",
       "      <td>3359.830775</td>\n",
       "      <td>1722.998846</td>\n",
       "      <td>3870.135904</td>\n",
       "      <td>3568.553977</td>\n",
       "      <td>1430.977114</td>\n",
       "      <td>1112.210736</td>\n",
       "      <td>1780.796209</td>\n",
       "      <td>3967.272248</td>\n",
       "      <td>4397.066283</td>\n",
       "    </tr>\n",
       "    <tr>\n",
       "      <th>162</th>\n",
       "      <td>560.846512</td>\n",
       "      <td>2371.759132</td>\n",
       "      <td>1220.105834</td>\n",
       "      <td>148.438761</td>\n",
       "      <td>109.260485</td>\n",
       "      <td>146.366013</td>\n",
       "      <td>1060.146525</td>\n",
       "      <td>1939.746235</td>\n",
       "      <td>394.297214</td>\n",
       "      <td>1628.375573</td>\n",
       "      <td>746.136540</td>\n",
       "      <td>92.127303</td>\n",
       "      <td>68.590562</td>\n",
       "      <td>96.230284</td>\n",
       "      <td>916.813974</td>\n",
       "      <td>2123.169656</td>\n",
       "    </tr>\n",
       "    <tr>\n",
       "      <th>163</th>\n",
       "      <td>331.087573</td>\n",
       "      <td>1728.080788</td>\n",
       "      <td>681.422112</td>\n",
       "      <td>101.978453</td>\n",
       "      <td>84.141966</td>\n",
       "      <td>110.375521</td>\n",
       "      <td>681.525089</td>\n",
       "      <td>1826.142944</td>\n",
       "      <td>294.199792</td>\n",
       "      <td>1599.936701</td>\n",
       "      <td>499.583126</td>\n",
       "      <td>88.541710</td>\n",
       "      <td>70.524757</td>\n",
       "      <td>88.612275</td>\n",
       "      <td>655.051908</td>\n",
       "      <td>1753.031659</td>\n",
       "    </tr>\n",
       "    <tr>\n",
       "      <th>164</th>\n",
       "      <td>813.937202</td>\n",
       "      <td>3300.841094</td>\n",
       "      <td>1686.397325</td>\n",
       "      <td>219.852586</td>\n",
       "      <td>100.263440</td>\n",
       "      <td>137.005279</td>\n",
       "      <td>1199.025102</td>\n",
       "      <td>2468.398903</td>\n",
       "      <td>511.862773</td>\n",
       "      <td>2202.629085</td>\n",
       "      <td>1040.122288</td>\n",
       "      <td>143.847806</td>\n",
       "      <td>101.645532</td>\n",
       "      <td>176.934131</td>\n",
       "      <td>1427.605573</td>\n",
       "      <td>3105.033090</td>\n",
       "    </tr>\n",
       "  </tbody>\n",
       "</table>\n",
       "<p>165 rows × 16 columns</p>\n",
       "</div>"
      ],
      "text/plain": [
       "     GT_th_0.0_sig_4_mean  GT_th_0.0_sig_4_var  GT_th_0.0_sig_8_mean  \\\n",
       "0               62.517614           305.514206            301.636696   \n",
       "1              364.516917          1192.308071            698.526823   \n",
       "2               66.404161           306.202799            233.685265   \n",
       "3              478.073022          2159.645241           1668.201264   \n",
       "4              475.109105          1437.862613            722.345907   \n",
       "..                    ...                  ...                   ...   \n",
       "160           1665.175788          3427.846992           3833.622406   \n",
       "161           2392.708456          3906.278914           2926.146517   \n",
       "162            560.846512          2371.759132           1220.105834   \n",
       "163            331.087573          1728.080788            681.422112   \n",
       "164            813.937202          3300.841094           1686.397325   \n",
       "\n",
       "     GT_th_0.0_sig_8_var  GT_th_1.0_sig_4_mean  GT_th_1.0_sig_4_var  \\\n",
       "0              87.827362             78.720991           121.897097   \n",
       "1             125.456955             98.120296           162.978616   \n",
       "2              60.532162             57.516987           109.289832   \n",
       "3             391.395853            352.264063           657.435075   \n",
       "4              94.257551             56.299454            71.365387   \n",
       "..                   ...                   ...                  ...   \n",
       "160          1953.198588           1058.133938          1726.894052   \n",
       "161           942.969171            658.449548          1061.431995   \n",
       "162           148.438761            109.260485           146.366013   \n",
       "163           101.978453             84.141966           110.375521   \n",
       "164           219.852586            100.263440           137.005279   \n",
       "\n",
       "     GT_th_1.0_sig_8_mean  GT_th_1.0_sig_8_var  GT_th_2.0_sig_4_mean  \\\n",
       "0              657.458894           928.255688            151.102095   \n",
       "1             1291.866463          2895.510571            963.596078   \n",
       "2              831.654380          1506.621874            305.688427   \n",
       "3             3782.524056          4669.283715           1726.584144   \n",
       "4              360.193257           611.440982            150.595686   \n",
       "..                    ...                  ...                   ...   \n",
       "160           3693.325889          3126.915462           1546.824557   \n",
       "161           2726.663638          3359.830775           1722.998846   \n",
       "162           1060.146525          1939.746235            394.297214   \n",
       "163            681.525089          1826.142944            294.199792   \n",
       "164           1199.025102          2468.398903            511.862773   \n",
       "\n",
       "     GT_th_2.0_sig_4_var  GT_th_2.0_sig_8_mean  GT_th_2.0_sig_8_var  \\\n",
       "0             335.709199            105.315994            22.019745   \n",
       "1            3359.425523           2129.442562           304.645951   \n",
       "2             778.971981            208.961631            26.638395   \n",
       "3            3380.912374           1432.654672           205.853786   \n",
       "4             710.476027            485.007087            98.721635   \n",
       "..                   ...                   ...                  ...   \n",
       "160          2232.571784           1673.490656           663.229656   \n",
       "161          3870.135904           3568.553977          1430.977114   \n",
       "162          1628.375573            746.136540            92.127303   \n",
       "163          1599.936701            499.583126            88.541710   \n",
       "164          2202.629085           1040.122288           143.847806   \n",
       "\n",
       "     GT_th_3.0_sig_4_mean  GT_th_3.0_sig_4_var  GT_th_3.0_sig_8_mean  \\\n",
       "0               18.297699            23.234923            102.277867   \n",
       "1              188.257369           235.761633           1137.700246   \n",
       "2               19.266656            26.254364            129.615832   \n",
       "3              145.124956           203.526156           1056.967766   \n",
       "4               79.571196           134.161038            886.158662   \n",
       "..                    ...                  ...                   ...   \n",
       "160            333.855040           415.530234           1504.431301   \n",
       "161           1112.210736          1780.796209           3967.272248   \n",
       "162             68.590562            96.230284            916.813974   \n",
       "163             70.524757            88.612275            655.051908   \n",
       "164            101.645532           176.934131           1427.605573   \n",
       "\n",
       "     GT_th_3.0_sig_8_var  \n",
       "0             212.104132  \n",
       "1            1502.566433  \n",
       "2             242.488571  \n",
       "3            1706.005919  \n",
       "4            1552.159091  \n",
       "..                   ...  \n",
       "160          2636.775221  \n",
       "161          4397.066283  \n",
       "162          2123.169656  \n",
       "163          1753.031659  \n",
       "164          3105.033090  \n",
       "\n",
       "[165 rows x 16 columns]"
      ]
     },
     "execution_count": 29,
     "metadata": {},
     "output_type": "execute_result"
    }
   ],
   "source": [
    "result_test"
   ]
  },
  {
   "cell_type": "code",
   "execution_count": 30,
   "id": "b03d5540-e8c7-4553-ba5c-6de1cb8eed68",
   "metadata": {},
   "outputs": [],
   "source": [
    "start_TEPR_time = time.time()## точка отсчета времени\n",
    "Xtest = result_test\n",
    "\n",
    "scaler = preprocessing.StandardScaler().fit(Xtest)\n",
    "X_sc_test = scaler.transform(Xtest)\n",
    "\n",
    "Ytest = labels_test"
   ]
  },
  {
   "cell_type": "code",
   "execution_count": 31,
   "id": "4aba65f5-14c7-4b05-b74a-b2bfb6198576",
   "metadata": {},
   "outputs": [],
   "source": [
    "Y_pred_test = best_svm.predict(X_sc_test)"
   ]
  },
  {
   "cell_type": "code",
   "execution_count": 32,
   "id": "802e3786-2ea1-4426-8ba0-90a4bc90e8c7",
   "metadata": {},
   "outputs": [
    {
     "name": "stdout",
     "output_type": "stream",
     "text": [
      "              precision    recall  f1-score   support\n",
      "\n",
      "           0       0.75      0.18      0.29        33\n",
      "           1       0.89      1.00      0.94        33\n",
      "           2       0.89      0.94      0.91        33\n",
      "           3       0.51      0.91      0.65        33\n",
      "           4       0.73      0.58      0.64        33\n",
      "\n",
      "    accuracy                           0.72       165\n",
      "   macro avg       0.75      0.72      0.69       165\n",
      "weighted avg       0.75      0.72      0.69       165\n",
      "\n",
      "--- 0.036032915115356445 seconds Test_predict ---\n",
      "--- 6.142581224441528 seconds test ---\n"
     ]
    }
   ],
   "source": [
    "print(classification_report(Ytest, Y_pred_test))\n",
    "print(\"--- %s seconds Test_predict ---\" % (time.time() - start_TEPR_time))\n",
    "print(\"--- %s seconds test ---\" % (time.time() - start_TEST_time))"
   ]
  }
 ],
 "metadata": {
  "kernelspec": {
   "display_name": "Python 3 (ipykernel)",
   "language": "python",
   "name": "python3"
  },
  "language_info": {
   "codemirror_mode": {
    "name": "ipython",
    "version": 3
   },
   "file_extension": ".py",
   "mimetype": "text/x-python",
   "name": "python",
   "nbconvert_exporter": "python",
   "pygments_lexer": "ipython3",
   "version": "3.9.13"
  }
 },
 "nbformat": 4,
 "nbformat_minor": 5
}
