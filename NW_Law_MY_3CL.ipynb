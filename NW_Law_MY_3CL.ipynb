{
 "cells": [
  {
   "cell_type": "code",
   "execution_count": 1,
   "id": "eb59c7b8-e932-40b0-81ac-f60a92aa1949",
   "metadata": {},
   "outputs": [],
   "source": [
    "import time \n",
    "start_alltime = time.time()## точка отсчета времени\n",
    "import cv2\n",
    "import numpy as np\n",
    "import os as os\n",
    "import pandas as pd\n",
    "from sklearn.model_selection import train_test_split, GridSearchCV\n",
    "from sklearn import svm\n",
    "from sklearn.metrics import *\n",
    "from sklearn import preprocessing\n",
    "from scipy import signal as sg\n",
    "from sklearn.neighbors import KNeighborsClassifier"
   ]
  },
  {
   "cell_type": "code",
   "execution_count": 2,
   "id": "022b5552-4fd2-4f4e-9be0-20260fd58495",
   "metadata": {},
   "outputs": [],
   "source": [
    "def laws_texture(gray_image):\n",
    "    (rows, cols) = gray_image.shape[:2]\n",
    "    smooth_kernel = (1/25)*np.ones((5,5))\n",
    "    gray_smooth = sg.convolve(gray_image, smooth_kernel, 'same')\n",
    "    gray_processed = np.abs(gray_image - gray_smooth)\n",
    "    \n",
    "    filter_vectors = np.array([[1,4,6,4,1],\n",
    "                              [-1,-2,0,2,1],\n",
    "                              [-1,0,2,0,1],\n",
    "                              [1,-4,6,-4,1]])\n",
    "    filters = []\n",
    "    for i in range(4):\n",
    "        for j in range(4):\n",
    "            filters.append(np.matmul(filter_vectors[i][:].reshape(5,1),\n",
    "                               filter_vectors[j][:].reshape(1,5)))\n",
    "    \n",
    "    conv_maps = np.zeros((rows, cols, 16))\n",
    "    for i in range(len(filters)):\n",
    "        conv_maps[:,:,i] = sg.convolve(gray_processed,\n",
    "                                      filters[i], 'same')\n",
    "    \n",
    "    texture_maps = list()\n",
    "    texture_maps.append((conv_maps[:,:,1]+conv_maps[:,:,4])//2)\n",
    "    texture_maps.append((conv_maps[:,:,2]+conv_maps[:,:,8])//2)\n",
    "    texture_maps.append((conv_maps[:,:,3]+conv_maps[:,:,12])//2)\n",
    "    texture_maps.append((conv_maps[:,:,7]+conv_maps[:,:,13])//2)\n",
    "    texture_maps.append((conv_maps[:,:,6]+conv_maps[:,:,9])//2)\n",
    "    texture_maps.append((conv_maps[:,:,11]+conv_maps[:,:,14])//2)\n",
    "    texture_maps.append((conv_maps[:,:,10]))\n",
    "    texture_maps.append((conv_maps[:,:,5]))\n",
    "    texture_maps.append((conv_maps[:,:,15]))\n",
    "    texture_maps.append((conv_maps[:,:,0])) \n",
    "    \n",
    "    TEM = list()\n",
    "    for i in range(9):\n",
    "        TEM.append(np.abs(texture_maps[i]).sum() /\n",
    "                  np.abs(texture_maps[9]).sum())\n",
    "    return TEM"
   ]
  },
  {
   "cell_type": "markdown",
   "id": "8b06ec52-c7bf-4390-9830-9aa0823ca840",
   "metadata": {},
   "source": [
    "## Load and preprocessing image ##"
   ]
  },
  {
   "cell_type": "code",
   "execution_count": 3,
   "id": "88323233-659c-41c6-a0a4-bc798c32387e",
   "metadata": {},
   "outputs": [],
   "source": [
    "def LaP_images(path):\n",
    "    images = []\n",
    "    filenames = os.listdir(path)\n",
    "    for filename in filenames:    \n",
    "        image = cv2.imread(os.path.join(path, filename),0)\n",
    "        image = cv2.resize(image, dsize=(150,150))\n",
    "        images.append(image)\n",
    "    return np.array(images)"
   ]
  },
  {
   "cell_type": "code",
   "execution_count": 4,
   "id": "89cb7f88-684b-418e-b118-10d72837063b",
   "metadata": {},
   "outputs": [],
   "source": [
    "start_LaP_time = time.time()## точка отсчета времени\n",
    "foil_train_dir = os.getcwd() + \"\\\\Desert\"\n",
    "corduroy_train_dir = os.getcwd() + \"\\\\DenseResidential\"\n",
    "cork_train_dir = os.getcwd() + \"\\\\Forest\"\n",
    "catton_train_dir = os.getcwd() + \"\\\\Meadow\"\n",
    "linen_train_dir = os.getcwd() + \"\\\\River\""
   ]
  },
  {
   "cell_type": "code",
   "execution_count": 5,
   "id": "119d6ffa-561b-4d51-bcd2-b3c961751401",
   "metadata": {},
   "outputs": [],
   "source": [
    "foil_train_list = LaP_images(foil_train_dir)\n",
    "corduroy_train_list = LaP_images(corduroy_train_dir)\n",
    "cork_train_list = LaP_images(cork_train_dir)\n",
    "catton_train_list = LaP_images(catton_train_dir)\n",
    "linen_train_list = LaP_images(linen_train_dir)"
   ]
  },
  {
   "cell_type": "code",
   "execution_count": 6,
   "id": "7d717fed-7a60-45b2-96bd-330363120309",
   "metadata": {},
   "outputs": [
    {
     "name": "stdout",
     "output_type": "stream",
     "text": [
      "150\n",
      "217\n",
      "217\n",
      "217\n",
      "217\n",
      "217\n"
     ]
    }
   ],
   "source": [
    "print(len(foil_train_list[1]))\n",
    "print(len(foil_train_list))\n",
    "print(len(corduroy_train_list))\n",
    "print(len(cork_train_list))\n",
    "print(len(catton_train_list))\n",
    "print(len(linen_train_list))"
   ]
  },
  {
   "cell_type": "markdown",
   "id": "3cb3e6ee-0c6e-4833-bc2c-71286df367cd",
   "metadata": {},
   "source": [
    "### All image in one array ###"
   ]
  },
  {
   "cell_type": "code",
   "execution_count": 7,
   "id": "4c61baf9-a038-4a58-84a5-f81d08591620",
   "metadata": {},
   "outputs": [
    {
     "name": "stdout",
     "output_type": "stream",
     "text": [
      "(1085, 150, 150) Shape before extract\n"
     ]
    }
   ],
   "source": [
    "start_EX_time = time.time()## точка отсчета времени\n",
    "all_images = np.vstack((foil_train_list,\n",
    "                        corduroy_train_list,\n",
    "                        cork_train_list,\n",
    "                        catton_train_list,\n",
    "                        linen_train_list\n",
    "                        ))\n",
    "print(all_images.shape,\"Shape before extract\")"
   ]
  },
  {
   "cell_type": "code",
   "execution_count": 8,
   "id": "7e1995f0-5c07-4dff-8210-82f8bf8d7d87",
   "metadata": {},
   "outputs": [
    {
     "name": "stdout",
     "output_type": "stream",
     "text": [
      "--- 3.2169222831726074 seconds Load and preprocessing ---\n"
     ]
    }
   ],
   "source": [
    "labels = []\n",
    "for i in range(len(foil_train_list)):\n",
    "    labels.append(0)\n",
    "for i in range(len(corduroy_train_list)):\n",
    "    labels.append(1)\n",
    "for i in range(len(cork_train_list)):\n",
    "    labels.append(2)\n",
    "for i in range(len(catton_train_list)):\n",
    "    labels.append(3)\n",
    "for i in range(len(linen_train_list)):\n",
    "    labels.append(4)\n",
    "    \n",
    "labels = np.array(labels)\n",
    "print(\"--- %s seconds Load and preprocessing ---\" % (time.time() - start_LaP_time)) ## вывод время работы программы"
   ]
  },
  {
   "cell_type": "markdown",
   "id": "d5d8e285-410a-4390-941e-7e86129146bb",
   "metadata": {},
   "source": [
    "## Extract Laws Texture Energy Measures ##"
   ]
  },
  {
   "cell_type": "code",
   "execution_count": 9,
   "id": "c7cbfc9b-678d-4f6c-9038-44e679122b71",
   "metadata": {},
   "outputs": [],
   "source": [
    "def extract_laws(images):\n",
    "    tems = []\n",
    "    for image in images:\n",
    "        law = laws_texture(image)\n",
    "        tems.append(law)\n",
    "    \n",
    "    return np.array(tems)"
   ]
  },
  {
   "cell_type": "code",
   "execution_count": 10,
   "id": "125de1a5-ddc0-4adf-991c-61affa2afdd7",
   "metadata": {},
   "outputs": [
    {
     "name": "stdout",
     "output_type": "stream",
     "text": [
      "--- 19.34657573699951 seconds Extract Laws Features ---\n"
     ]
    }
   ],
   "source": [
    "start_EX_time = time.time()## точка отсчета времени\n",
    "X_all_laws = extract_laws(all_images)\n",
    "print(\"--- %s seconds Extract Laws Features ---\" % (time.time() - start_EX_time)) ## вывод время работы программы"
   ]
  },
  {
   "cell_type": "code",
   "execution_count": 11,
   "id": "3fa7b1d3-3b29-4a2f-bb5c-789ae72439bf",
   "metadata": {},
   "outputs": [
    {
     "name": "stdout",
     "output_type": "stream",
     "text": [
      "(1085, 9) Shape after extract\n"
     ]
    }
   ],
   "source": [
    "print(X_all_laws.shape,\"Shape after extract\")"
   ]
  },
  {
   "cell_type": "markdown",
   "id": "451a1bef-b08c-4ee1-a4ec-7228b7e7ba72",
   "metadata": {},
   "source": [
    "## General dataset ##"
   ]
  },
  {
   "cell_type": "code",
   "execution_count": 12,
   "id": "eaf3b675-6e6a-48f7-aa8e-fcd85696110f",
   "metadata": {},
   "outputs": [],
   "source": [
    "col = [\"L5E5 / E5L5\", \"L5S5 / S5L5\", \"L5R5 / R5L5\", \"E5R5 / R5E5\", \"E5S5 / S5E5\", \"S5R5 / R5S5\", \"S5S5\", \"E5E5\", \"R5R5\"]"
   ]
  },
  {
   "cell_type": "code",
   "execution_count": 13,
   "id": "b4769aab-fc5d-4468-a6c1-f94a125e80b2",
   "metadata": {},
   "outputs": [],
   "source": [
    "result = pd.DataFrame(data = X_all_laws,columns = col)"
   ]
  },
  {
   "cell_type": "code",
   "execution_count": 14,
   "id": "33f4febf-d1b6-4f51-b74a-6db9d70064c4",
   "metadata": {},
   "outputs": [
    {
     "data": {
      "text/html": [
       "<div>\n",
       "<style scoped>\n",
       "    .dataframe tbody tr th:only-of-type {\n",
       "        vertical-align: middle;\n",
       "    }\n",
       "\n",
       "    .dataframe tbody tr th {\n",
       "        vertical-align: top;\n",
       "    }\n",
       "\n",
       "    .dataframe thead th {\n",
       "        text-align: right;\n",
       "    }\n",
       "</style>\n",
       "<table border=\"1\" class=\"dataframe\">\n",
       "  <thead>\n",
       "    <tr style=\"text-align: right;\">\n",
       "      <th></th>\n",
       "      <th>L5E5 / E5L5</th>\n",
       "      <th>L5S5 / S5L5</th>\n",
       "      <th>L5R5 / R5L5</th>\n",
       "      <th>E5R5 / R5E5</th>\n",
       "      <th>E5S5 / S5E5</th>\n",
       "      <th>S5R5 / R5S5</th>\n",
       "      <th>S5S5</th>\n",
       "      <th>E5E5</th>\n",
       "      <th>R5R5</th>\n",
       "    </tr>\n",
       "  </thead>\n",
       "  <tbody>\n",
       "    <tr>\n",
       "      <th>0</th>\n",
       "      <td>0.090781</td>\n",
       "      <td>0.139365</td>\n",
       "      <td>0.140277</td>\n",
       "      <td>0.028190</td>\n",
       "      <td>0.015869</td>\n",
       "      <td>0.031138</td>\n",
       "      <td>0.023207</td>\n",
       "      <td>0.017176</td>\n",
       "      <td>0.096574</td>\n",
       "    </tr>\n",
       "    <tr>\n",
       "      <th>1</th>\n",
       "      <td>0.058706</td>\n",
       "      <td>0.128299</td>\n",
       "      <td>0.122154</td>\n",
       "      <td>0.039761</td>\n",
       "      <td>0.014044</td>\n",
       "      <td>0.036813</td>\n",
       "      <td>0.019910</td>\n",
       "      <td>0.022993</td>\n",
       "      <td>0.147837</td>\n",
       "    </tr>\n",
       "    <tr>\n",
       "      <th>2</th>\n",
       "      <td>0.103672</td>\n",
       "      <td>0.149097</td>\n",
       "      <td>0.145773</td>\n",
       "      <td>0.018413</td>\n",
       "      <td>0.016026</td>\n",
       "      <td>0.027059</td>\n",
       "      <td>0.025044</td>\n",
       "      <td>0.011804</td>\n",
       "      <td>0.064441</td>\n",
       "    </tr>\n",
       "    <tr>\n",
       "      <th>3</th>\n",
       "      <td>0.086811</td>\n",
       "      <td>0.136177</td>\n",
       "      <td>0.134686</td>\n",
       "      <td>0.032209</td>\n",
       "      <td>0.016287</td>\n",
       "      <td>0.032480</td>\n",
       "      <td>0.022600</td>\n",
       "      <td>0.020899</td>\n",
       "      <td>0.108868</td>\n",
       "    </tr>\n",
       "    <tr>\n",
       "      <th>4</th>\n",
       "      <td>0.102617</td>\n",
       "      <td>0.146685</td>\n",
       "      <td>0.143259</td>\n",
       "      <td>0.020331</td>\n",
       "      <td>0.016172</td>\n",
       "      <td>0.026896</td>\n",
       "      <td>0.024512</td>\n",
       "      <td>0.013717</td>\n",
       "      <td>0.067039</td>\n",
       "    </tr>\n",
       "    <tr>\n",
       "      <th>...</th>\n",
       "      <td>...</td>\n",
       "      <td>...</td>\n",
       "      <td>...</td>\n",
       "      <td>...</td>\n",
       "      <td>...</td>\n",
       "      <td>...</td>\n",
       "      <td>...</td>\n",
       "      <td>...</td>\n",
       "      <td>...</td>\n",
       "    </tr>\n",
       "    <tr>\n",
       "      <th>1080</th>\n",
       "      <td>0.067842</td>\n",
       "      <td>0.129439</td>\n",
       "      <td>0.117752</td>\n",
       "      <td>0.037825</td>\n",
       "      <td>0.015199</td>\n",
       "      <td>0.034482</td>\n",
       "      <td>0.020323</td>\n",
       "      <td>0.024252</td>\n",
       "      <td>0.132877</td>\n",
       "    </tr>\n",
       "    <tr>\n",
       "      <th>1081</th>\n",
       "      <td>0.065831</td>\n",
       "      <td>0.128917</td>\n",
       "      <td>0.117716</td>\n",
       "      <td>0.035902</td>\n",
       "      <td>0.014513</td>\n",
       "      <td>0.033454</td>\n",
       "      <td>0.019973</td>\n",
       "      <td>0.022872</td>\n",
       "      <td>0.126178</td>\n",
       "    </tr>\n",
       "    <tr>\n",
       "      <th>1082</th>\n",
       "      <td>0.069880</td>\n",
       "      <td>0.128726</td>\n",
       "      <td>0.116989</td>\n",
       "      <td>0.036997</td>\n",
       "      <td>0.015170</td>\n",
       "      <td>0.033184</td>\n",
       "      <td>0.020202</td>\n",
       "      <td>0.023717</td>\n",
       "      <td>0.122938</td>\n",
       "    </tr>\n",
       "    <tr>\n",
       "      <th>1083</th>\n",
       "      <td>0.069178</td>\n",
       "      <td>0.130316</td>\n",
       "      <td>0.123452</td>\n",
       "      <td>0.038246</td>\n",
       "      <td>0.015201</td>\n",
       "      <td>0.034631</td>\n",
       "      <td>0.020670</td>\n",
       "      <td>0.023596</td>\n",
       "      <td>0.127838</td>\n",
       "    </tr>\n",
       "    <tr>\n",
       "      <th>1084</th>\n",
       "      <td>0.056022</td>\n",
       "      <td>0.127360</td>\n",
       "      <td>0.115690</td>\n",
       "      <td>0.039578</td>\n",
       "      <td>0.014298</td>\n",
       "      <td>0.035407</td>\n",
       "      <td>0.019705</td>\n",
       "      <td>0.024888</td>\n",
       "      <td>0.138847</td>\n",
       "    </tr>\n",
       "  </tbody>\n",
       "</table>\n",
       "<p>1085 rows × 9 columns</p>\n",
       "</div>"
      ],
      "text/plain": [
       "      L5E5 / E5L5  L5S5 / S5L5  L5R5 / R5L5  E5R5 / R5E5  E5S5 / S5E5  \\\n",
       "0        0.090781     0.139365     0.140277     0.028190     0.015869   \n",
       "1        0.058706     0.128299     0.122154     0.039761     0.014044   \n",
       "2        0.103672     0.149097     0.145773     0.018413     0.016026   \n",
       "3        0.086811     0.136177     0.134686     0.032209     0.016287   \n",
       "4        0.102617     0.146685     0.143259     0.020331     0.016172   \n",
       "...           ...          ...          ...          ...          ...   \n",
       "1080     0.067842     0.129439     0.117752     0.037825     0.015199   \n",
       "1081     0.065831     0.128917     0.117716     0.035902     0.014513   \n",
       "1082     0.069880     0.128726     0.116989     0.036997     0.015170   \n",
       "1083     0.069178     0.130316     0.123452     0.038246     0.015201   \n",
       "1084     0.056022     0.127360     0.115690     0.039578     0.014298   \n",
       "\n",
       "      S5R5 / R5S5      S5S5      E5E5      R5R5  \n",
       "0        0.031138  0.023207  0.017176  0.096574  \n",
       "1        0.036813  0.019910  0.022993  0.147837  \n",
       "2        0.027059  0.025044  0.011804  0.064441  \n",
       "3        0.032480  0.022600  0.020899  0.108868  \n",
       "4        0.026896  0.024512  0.013717  0.067039  \n",
       "...           ...       ...       ...       ...  \n",
       "1080     0.034482  0.020323  0.024252  0.132877  \n",
       "1081     0.033454  0.019973  0.022872  0.126178  \n",
       "1082     0.033184  0.020202  0.023717  0.122938  \n",
       "1083     0.034631  0.020670  0.023596  0.127838  \n",
       "1084     0.035407  0.019705  0.024888  0.138847  \n",
       "\n",
       "[1085 rows x 9 columns]"
      ]
     },
     "execution_count": 14,
     "metadata": {},
     "output_type": "execute_result"
    }
   ],
   "source": [
    "result"
   ]
  },
  {
   "cell_type": "markdown",
   "id": "d8eb78ad-ff36-430a-ab25-241a4b8f1ce8",
   "metadata": {},
   "source": [
    "## Classification ##"
   ]
  },
  {
   "cell_type": "code",
   "execution_count": 15,
   "id": "2ec38c64-d269-410d-8e3e-51531c6fdca2",
   "metadata": {},
   "outputs": [],
   "source": [
    "X = result\n",
    "\n",
    "scaler = preprocessing.StandardScaler().fit(X)\n",
    "X_scaled = scaler.transform(X)\n",
    "\n",
    "Y = labels\n",
    "\n",
    "X_train, X_test, Y_train, Y_test = train_test_split(X_scaled, Y, test_size = 0.30)"
   ]
  },
  {
   "cell_type": "code",
   "execution_count": 16,
   "id": "5d87a14f-9a5b-4565-a3e4-cbc9546dd580",
   "metadata": {},
   "outputs": [
    {
     "name": "stdout",
     "output_type": "stream",
     "text": [
      "Fitting 5 folds for each of 9 candidates, totalling 45 fits\n",
      "--- 0.3683350086212158 seconds SVM+GridSearch fit ---\n"
     ]
    }
   ],
   "source": [
    "start_SVM_time = time.time()## точка отсчета времени\n",
    "clf_svm = svm.SVC()\n",
    "param_grid = {'C':[50,100,150],'gamma':[0.001,0.01,0.1]}#param_grid = {'C':[5,50,100,150,200,250,300,350,400],'gamma':[0.01,0.1,0.5]}\n",
    "grid_search_svm_clf=GridSearchCV(clf_svm,param_grid, refit = True, verbose=1)\n",
    "grid_search_svm_clf.fit(X_train, Y_train)\n",
    "print(\"--- %s seconds SVM+GridSearch fit ---\" % (time.time() - start_SVM_time)) ## вывод время работы программы"
   ]
  },
  {
   "cell_type": "code",
   "execution_count": 17,
   "id": "a6de1f35-827e-4729-8dcb-5ef6a9553170",
   "metadata": {},
   "outputs": [
    {
     "data": {
      "text/html": [
       "<style>#sk-container-id-1 {color: black;background-color: white;}#sk-container-id-1 pre{padding: 0;}#sk-container-id-1 div.sk-toggleable {background-color: white;}#sk-container-id-1 label.sk-toggleable__label {cursor: pointer;display: block;width: 100%;margin-bottom: 0;padding: 0.3em;box-sizing: border-box;text-align: center;}#sk-container-id-1 label.sk-toggleable__label-arrow:before {content: \"▸\";float: left;margin-right: 0.25em;color: #696969;}#sk-container-id-1 label.sk-toggleable__label-arrow:hover:before {color: black;}#sk-container-id-1 div.sk-estimator:hover label.sk-toggleable__label-arrow:before {color: black;}#sk-container-id-1 div.sk-toggleable__content {max-height: 0;max-width: 0;overflow: hidden;text-align: left;background-color: #f0f8ff;}#sk-container-id-1 div.sk-toggleable__content pre {margin: 0.2em;color: black;border-radius: 0.25em;background-color: #f0f8ff;}#sk-container-id-1 input.sk-toggleable__control:checked~div.sk-toggleable__content {max-height: 200px;max-width: 100%;overflow: auto;}#sk-container-id-1 input.sk-toggleable__control:checked~label.sk-toggleable__label-arrow:before {content: \"▾\";}#sk-container-id-1 div.sk-estimator input.sk-toggleable__control:checked~label.sk-toggleable__label {background-color: #d4ebff;}#sk-container-id-1 div.sk-label input.sk-toggleable__control:checked~label.sk-toggleable__label {background-color: #d4ebff;}#sk-container-id-1 input.sk-hidden--visually {border: 0;clip: rect(1px 1px 1px 1px);clip: rect(1px, 1px, 1px, 1px);height: 1px;margin: -1px;overflow: hidden;padding: 0;position: absolute;width: 1px;}#sk-container-id-1 div.sk-estimator {font-family: monospace;background-color: #f0f8ff;border: 1px dotted black;border-radius: 0.25em;box-sizing: border-box;margin-bottom: 0.5em;}#sk-container-id-1 div.sk-estimator:hover {background-color: #d4ebff;}#sk-container-id-1 div.sk-parallel-item::after {content: \"\";width: 100%;border-bottom: 1px solid gray;flex-grow: 1;}#sk-container-id-1 div.sk-label:hover label.sk-toggleable__label {background-color: #d4ebff;}#sk-container-id-1 div.sk-serial::before {content: \"\";position: absolute;border-left: 1px solid gray;box-sizing: border-box;top: 0;bottom: 0;left: 50%;z-index: 0;}#sk-container-id-1 div.sk-serial {display: flex;flex-direction: column;align-items: center;background-color: white;padding-right: 0.2em;padding-left: 0.2em;position: relative;}#sk-container-id-1 div.sk-item {position: relative;z-index: 1;}#sk-container-id-1 div.sk-parallel {display: flex;align-items: stretch;justify-content: center;background-color: white;position: relative;}#sk-container-id-1 div.sk-item::before, #sk-container-id-1 div.sk-parallel-item::before {content: \"\";position: absolute;border-left: 1px solid gray;box-sizing: border-box;top: 0;bottom: 0;left: 50%;z-index: -1;}#sk-container-id-1 div.sk-parallel-item {display: flex;flex-direction: column;z-index: 1;position: relative;background-color: white;}#sk-container-id-1 div.sk-parallel-item:first-child::after {align-self: flex-end;width: 50%;}#sk-container-id-1 div.sk-parallel-item:last-child::after {align-self: flex-start;width: 50%;}#sk-container-id-1 div.sk-parallel-item:only-child::after {width: 0;}#sk-container-id-1 div.sk-dashed-wrapped {border: 1px dashed gray;margin: 0 0.4em 0.5em 0.4em;box-sizing: border-box;padding-bottom: 0.4em;background-color: white;}#sk-container-id-1 div.sk-label label {font-family: monospace;font-weight: bold;display: inline-block;line-height: 1.2em;}#sk-container-id-1 div.sk-label-container {text-align: center;}#sk-container-id-1 div.sk-container {/* jupyter's `normalize.less` sets `[hidden] { display: none; }` but bootstrap.min.css set `[hidden] { display: none !important; }` so we also need the `!important` here to be able to override the default hidden behavior on the sphinx rendered scikit-learn.org. See: https://github.com/scikit-learn/scikit-learn/issues/21755 */display: inline-block !important;position: relative;}#sk-container-id-1 div.sk-text-repr-fallback {display: none;}</style><div id=\"sk-container-id-1\" class=\"sk-top-container\"><div class=\"sk-text-repr-fallback\"><pre>SVC(C=100, gamma=0.01)</pre><b>In a Jupyter environment, please rerun this cell to show the HTML representation or trust the notebook. <br />On GitHub, the HTML representation is unable to render, please try loading this page with nbviewer.org.</b></div><div class=\"sk-container\" hidden><div class=\"sk-item\"><div class=\"sk-estimator sk-toggleable\"><input class=\"sk-toggleable__control sk-hidden--visually\" id=\"sk-estimator-id-1\" type=\"checkbox\" checked><label for=\"sk-estimator-id-1\" class=\"sk-toggleable__label sk-toggleable__label-arrow\">SVC</label><div class=\"sk-toggleable__content\"><pre>SVC(C=100, gamma=0.01)</pre></div></div></div></div></div>"
      ],
      "text/plain": [
       "SVC(C=100, gamma=0.01)"
      ]
     },
     "execution_count": 17,
     "metadata": {},
     "output_type": "execute_result"
    }
   ],
   "source": [
    "grid_search_svm_clf.best_estimator_"
   ]
  },
  {
   "cell_type": "code",
   "execution_count": 18,
   "id": "f480ae7a-8785-427b-ba30-08ee9f3d8591",
   "metadata": {},
   "outputs": [
    {
     "name": "stdout",
     "output_type": "stream",
     "text": [
      "Accuracy: 0.8834355828220859\n",
      "              precision    recall  f1-score   support\n",
      "\n",
      "           0       0.93      0.86      0.90        66\n",
      "           1       0.96      0.91      0.93        75\n",
      "           2       0.89      0.96      0.92        67\n",
      "           3       0.85      0.86      0.85        58\n",
      "           4       0.78      0.82      0.80        60\n",
      "\n",
      "    accuracy                           0.88       326\n",
      "   macro avg       0.88      0.88      0.88       326\n",
      "weighted avg       0.89      0.88      0.88       326\n",
      "\n",
      "--- 0.009008407592773438 seconds Predict time ---\n"
     ]
    }
   ],
   "source": [
    "start_PR_time = time.time()## точка отсчета времени\n",
    "best_svm = grid_search_svm_clf.best_estimator_\n",
    "Y_pred_svm = best_svm.predict(X_test)\n",
    "print(\"Accuracy:\",accuracy_score(Y_test, Y_pred_svm))\n",
    "print(classification_report(Y_test, Y_pred_svm))\n",
    "print(\"--- %s seconds Predict time ---\" % (time.time() - start_PR_time)) ## вывод время работы программы"
   ]
  },
  {
   "cell_type": "code",
   "execution_count": 19,
   "id": "da65f8d8-6fb5-4508-ac9c-f6ef2928a2f2",
   "metadata": {},
   "outputs": [
    {
     "name": "stdout",
     "output_type": "stream",
     "text": [
      "--- 23.786608457565308 seconds ALL  ---\n"
     ]
    }
   ],
   "source": [
    "print(\"--- %s seconds ALL  ---\" % (time.time() - start_alltime)) ## вывод время работы программы"
   ]
  },
  {
   "cell_type": "code",
   "execution_count": 20,
   "id": "16d245db-56dc-429b-a1d2-5b2300cd1059",
   "metadata": {},
   "outputs": [
    {
     "name": "stdout",
     "output_type": "stream",
     "text": [
      "KNN train acc\t: 1.0\n",
      "KNN test acc\t: 0.8680981595092024\n",
      "--- 0.023021221160888672 seconds KNN ---\n"
     ]
    }
   ],
   "source": [
    "start_KNN_time = time.time()## точка отсчета времени\n",
    "\n",
    "model_knn = KNeighborsClassifier(n_neighbors=1)\n",
    "model_knn.fit(X_train, Y_train)\n",
    "\n",
    "print('KNN train acc\\t:', model_knn.score(X_train, Y_train))\n",
    "print('KNN test acc\\t:', model_knn.score(X_test, Y_test))\n",
    "\n",
    "print(\"--- %s seconds KNN ---\" % (time.time() - start_KNN_time)) ## вывод время работы программы"
   ]
  },
  {
   "cell_type": "code",
   "execution_count": 21,
   "id": "a9e440ce-9a46-4044-91ee-fb393a888b91",
   "metadata": {},
   "outputs": [],
   "source": [
    "start_TEST_time = time.time()## точка отсчета времени\n",
    "\n",
    "foil_test_dir = os.getcwd() + \"\\\\Desert_test\"\n",
    "corduroy_test_dir = os.getcwd() + \"\\\\DenseResidential_test\"\n",
    "cork_test_dir = os.getcwd() + \"\\\\Forest_test\"\n",
    "catton_test_dir = os.getcwd() + \"\\\\Meadow_test\"\n",
    "linen_test_dir = os.getcwd() + \"\\\\River_test\"\n",
    "\n",
    "\n",
    "foil_test_list = LaP_images(foil_test_dir)\n",
    "corduroy_test_list = LaP_images(corduroy_test_dir)\n",
    "cork_test_list = LaP_images(cork_test_dir)\n",
    "catton_test_list = LaP_images(catton_test_dir)\n",
    "linen_test_list = LaP_images(linen_test_dir)\n",
    "\n",
    "\n",
    "all_test_images = np.vstack((foil_test_list,\n",
    "                        corduroy_test_list,\n",
    "                        cork_test_list,\n",
    "                        catton_test_list,\n",
    "                        linen_test_list\n",
    "                        ))\n",
    "\n",
    "labels_test = []\n",
    "for i in range(len(foil_test_list)):\n",
    "    labels_test.append(0)\n",
    "for i in range(len(corduroy_test_list)):\n",
    "    labels_test.append(1)\n",
    "for i in range(len(cork_test_list)):\n",
    "    labels_test.append(2)\n",
    "for i in range(len(catton_test_list)):\n",
    "    labels_test.append(3)\n",
    "for i in range(len(linen_test_list)):\n",
    "    labels_test.append(4)\n",
    "\n",
    "    \n",
    "labels_test = np.array(labels_test)"
   ]
  },
  {
   "cell_type": "code",
   "execution_count": 22,
   "id": "28952aa7-6466-4892-8d2e-ab6f8f3673fb",
   "metadata": {},
   "outputs": [],
   "source": [
    "X_test_laws = extract_laws(all_test_images)\n",
    "result_test = pd.DataFrame(data = X_test_laws,columns = col)"
   ]
  },
  {
   "cell_type": "code",
   "execution_count": 23,
   "id": "3f455dba-8700-4062-983c-9a533fe20c11",
   "metadata": {},
   "outputs": [
    {
     "data": {
      "text/html": [
       "<div>\n",
       "<style scoped>\n",
       "    .dataframe tbody tr th:only-of-type {\n",
       "        vertical-align: middle;\n",
       "    }\n",
       "\n",
       "    .dataframe tbody tr th {\n",
       "        vertical-align: top;\n",
       "    }\n",
       "\n",
       "    .dataframe thead th {\n",
       "        text-align: right;\n",
       "    }\n",
       "</style>\n",
       "<table border=\"1\" class=\"dataframe\">\n",
       "  <thead>\n",
       "    <tr style=\"text-align: right;\">\n",
       "      <th></th>\n",
       "      <th>L5E5 / E5L5</th>\n",
       "      <th>L5S5 / S5L5</th>\n",
       "      <th>L5R5 / R5L5</th>\n",
       "      <th>E5R5 / R5E5</th>\n",
       "      <th>E5S5 / S5E5</th>\n",
       "      <th>S5R5 / R5S5</th>\n",
       "      <th>S5S5</th>\n",
       "      <th>E5E5</th>\n",
       "      <th>R5R5</th>\n",
       "    </tr>\n",
       "  </thead>\n",
       "  <tbody>\n",
       "    <tr>\n",
       "      <th>0</th>\n",
       "      <td>0.097412</td>\n",
       "      <td>0.144083</td>\n",
       "      <td>0.141584</td>\n",
       "      <td>0.021937</td>\n",
       "      <td>0.015592</td>\n",
       "      <td>0.028200</td>\n",
       "      <td>0.023953</td>\n",
       "      <td>0.012630</td>\n",
       "      <td>0.077383</td>\n",
       "    </tr>\n",
       "    <tr>\n",
       "      <th>1</th>\n",
       "      <td>0.086099</td>\n",
       "      <td>0.136376</td>\n",
       "      <td>0.130626</td>\n",
       "      <td>0.029783</td>\n",
       "      <td>0.016041</td>\n",
       "      <td>0.030383</td>\n",
       "      <td>0.022484</td>\n",
       "      <td>0.020421</td>\n",
       "      <td>0.096229</td>\n",
       "    </tr>\n",
       "    <tr>\n",
       "      <th>2</th>\n",
       "      <td>0.071913</td>\n",
       "      <td>0.132580</td>\n",
       "      <td>0.121460</td>\n",
       "      <td>0.031617</td>\n",
       "      <td>0.014185</td>\n",
       "      <td>0.031297</td>\n",
       "      <td>0.020903</td>\n",
       "      <td>0.018941</td>\n",
       "      <td>0.110749</td>\n",
       "    </tr>\n",
       "    <tr>\n",
       "      <th>3</th>\n",
       "      <td>0.076667</td>\n",
       "      <td>0.131554</td>\n",
       "      <td>0.127051</td>\n",
       "      <td>0.033407</td>\n",
       "      <td>0.015056</td>\n",
       "      <td>0.030630</td>\n",
       "      <td>0.020893</td>\n",
       "      <td>0.021179</td>\n",
       "      <td>0.099565</td>\n",
       "    </tr>\n",
       "    <tr>\n",
       "      <th>4</th>\n",
       "      <td>0.096668</td>\n",
       "      <td>0.139320</td>\n",
       "      <td>0.142549</td>\n",
       "      <td>0.034407</td>\n",
       "      <td>0.018496</td>\n",
       "      <td>0.034686</td>\n",
       "      <td>0.024150</td>\n",
       "      <td>0.023315</td>\n",
       "      <td>0.115426</td>\n",
       "    </tr>\n",
       "    <tr>\n",
       "      <th>...</th>\n",
       "      <td>...</td>\n",
       "      <td>...</td>\n",
       "      <td>...</td>\n",
       "      <td>...</td>\n",
       "      <td>...</td>\n",
       "      <td>...</td>\n",
       "      <td>...</td>\n",
       "      <td>...</td>\n",
       "      <td>...</td>\n",
       "    </tr>\n",
       "    <tr>\n",
       "      <th>160</th>\n",
       "      <td>0.078119</td>\n",
       "      <td>0.130910</td>\n",
       "      <td>0.123912</td>\n",
       "      <td>0.042818</td>\n",
       "      <td>0.017519</td>\n",
       "      <td>0.038868</td>\n",
       "      <td>0.021649</td>\n",
       "      <td>0.027794</td>\n",
       "      <td>0.153621</td>\n",
       "    </tr>\n",
       "    <tr>\n",
       "      <th>161</th>\n",
       "      <td>0.070377</td>\n",
       "      <td>0.129148</td>\n",
       "      <td>0.119309</td>\n",
       "      <td>0.041693</td>\n",
       "      <td>0.017110</td>\n",
       "      <td>0.036998</td>\n",
       "      <td>0.021349</td>\n",
       "      <td>0.028702</td>\n",
       "      <td>0.144894</td>\n",
       "    </tr>\n",
       "    <tr>\n",
       "      <th>162</th>\n",
       "      <td>0.059535</td>\n",
       "      <td>0.127165</td>\n",
       "      <td>0.124704</td>\n",
       "      <td>0.043745</td>\n",
       "      <td>0.014981</td>\n",
       "      <td>0.039569</td>\n",
       "      <td>0.020185</td>\n",
       "      <td>0.024744</td>\n",
       "      <td>0.162900</td>\n",
       "    </tr>\n",
       "    <tr>\n",
       "      <th>163</th>\n",
       "      <td>0.055778</td>\n",
       "      <td>0.127400</td>\n",
       "      <td>0.126305</td>\n",
       "      <td>0.043308</td>\n",
       "      <td>0.014114</td>\n",
       "      <td>0.039081</td>\n",
       "      <td>0.019874</td>\n",
       "      <td>0.023378</td>\n",
       "      <td>0.156774</td>\n",
       "    </tr>\n",
       "    <tr>\n",
       "      <th>164</th>\n",
       "      <td>0.060717</td>\n",
       "      <td>0.127438</td>\n",
       "      <td>0.126591</td>\n",
       "      <td>0.043533</td>\n",
       "      <td>0.014967</td>\n",
       "      <td>0.039431</td>\n",
       "      <td>0.020199</td>\n",
       "      <td>0.024796</td>\n",
       "      <td>0.159182</td>\n",
       "    </tr>\n",
       "  </tbody>\n",
       "</table>\n",
       "<p>165 rows × 9 columns</p>\n",
       "</div>"
      ],
      "text/plain": [
       "     L5E5 / E5L5  L5S5 / S5L5  L5R5 / R5L5  E5R5 / R5E5  E5S5 / S5E5  \\\n",
       "0       0.097412     0.144083     0.141584     0.021937     0.015592   \n",
       "1       0.086099     0.136376     0.130626     0.029783     0.016041   \n",
       "2       0.071913     0.132580     0.121460     0.031617     0.014185   \n",
       "3       0.076667     0.131554     0.127051     0.033407     0.015056   \n",
       "4       0.096668     0.139320     0.142549     0.034407     0.018496   \n",
       "..           ...          ...          ...          ...          ...   \n",
       "160     0.078119     0.130910     0.123912     0.042818     0.017519   \n",
       "161     0.070377     0.129148     0.119309     0.041693     0.017110   \n",
       "162     0.059535     0.127165     0.124704     0.043745     0.014981   \n",
       "163     0.055778     0.127400     0.126305     0.043308     0.014114   \n",
       "164     0.060717     0.127438     0.126591     0.043533     0.014967   \n",
       "\n",
       "     S5R5 / R5S5      S5S5      E5E5      R5R5  \n",
       "0       0.028200  0.023953  0.012630  0.077383  \n",
       "1       0.030383  0.022484  0.020421  0.096229  \n",
       "2       0.031297  0.020903  0.018941  0.110749  \n",
       "3       0.030630  0.020893  0.021179  0.099565  \n",
       "4       0.034686  0.024150  0.023315  0.115426  \n",
       "..           ...       ...       ...       ...  \n",
       "160     0.038868  0.021649  0.027794  0.153621  \n",
       "161     0.036998  0.021349  0.028702  0.144894  \n",
       "162     0.039569  0.020185  0.024744  0.162900  \n",
       "163     0.039081  0.019874  0.023378  0.156774  \n",
       "164     0.039431  0.020199  0.024796  0.159182  \n",
       "\n",
       "[165 rows x 9 columns]"
      ]
     },
     "execution_count": 23,
     "metadata": {},
     "output_type": "execute_result"
    }
   ],
   "source": [
    "result_test"
   ]
  },
  {
   "cell_type": "code",
   "execution_count": 24,
   "id": "e8fc086b-250d-48e5-8abd-ee33a7e7413b",
   "metadata": {},
   "outputs": [],
   "source": [
    "start_TEPR_time = time.time()## точка отсчета времени\n",
    "Xtest = result_test\n",
    "\n",
    "scaler = preprocessing.StandardScaler().fit(Xtest)\n",
    "X_sc_test = scaler.transform(Xtest)\n",
    "\n",
    "Ytest = labels_test"
   ]
  },
  {
   "cell_type": "code",
   "execution_count": 25,
   "id": "dbfa517b-e2b0-4bcf-9108-4906bcf18ffb",
   "metadata": {},
   "outputs": [],
   "source": [
    "Y_pred_test = best_svm.predict(X_sc_test)"
   ]
  },
  {
   "cell_type": "code",
   "execution_count": 26,
   "id": "fe568bc1-bf9d-4c34-bfd7-e82a5e4a592c",
   "metadata": {},
   "outputs": [
    {
     "name": "stdout",
     "output_type": "stream",
     "text": [
      "              precision    recall  f1-score   support\n",
      "\n",
      "           0       0.93      0.85      0.89        33\n",
      "           1       0.94      1.00      0.97        33\n",
      "           2       0.97      0.94      0.95        33\n",
      "           3       0.78      0.85      0.81        33\n",
      "           4       0.78      0.76      0.77        33\n",
      "\n",
      "    accuracy                           0.88       165\n",
      "   macro avg       0.88      0.88      0.88       165\n",
      "weighted avg       0.88      0.88      0.88       165\n",
      "\n"
     ]
    }
   ],
   "source": [
    "print(classification_report(Ytest, Y_pred_test))"
   ]
  },
  {
   "cell_type": "code",
   "execution_count": 27,
   "id": "9c75ccfb-3983-4622-921b-7ac69d6ca570",
   "metadata": {},
   "outputs": [
    {
     "name": "stdout",
     "output_type": "stream",
     "text": [
      "--- 0.04804372787475586 seconds Test_predict ---\n",
      "--- 3.515193462371826 seconds test ---\n"
     ]
    }
   ],
   "source": [
    "print(\"--- %s seconds Test_predict ---\" % (time.time() - start_TEPR_time))\n",
    "print(\"--- %s seconds test ---\" % (time.time() - start_TEST_time))"
   ]
  },
  {
   "cell_type": "code",
   "execution_count": null,
   "id": "bd80c2ef-3f54-4d90-b79f-c765a387cc26",
   "metadata": {},
   "outputs": [],
   "source": []
  }
 ],
 "metadata": {
  "kernelspec": {
   "display_name": "Python 3 (ipykernel)",
   "language": "python",
   "name": "python3"
  },
  "language_info": {
   "codemirror_mode": {
    "name": "ipython",
    "version": 3
   },
   "file_extension": ".py",
   "mimetype": "text/x-python",
   "name": "python",
   "nbconvert_exporter": "python",
   "pygments_lexer": "ipython3",
   "version": "3.9.13"
  }
 },
 "nbformat": 4,
 "nbformat_minor": 5
}
