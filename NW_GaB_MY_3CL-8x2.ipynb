{
 "cells": [
  {
   "cell_type": "markdown",
   "id": "232329c8-f21d-49fb-bc8e-16d089a74c9a",
   "metadata": {},
   "source": [
    "ktn_tips_2b"
   ]
  },
  {
   "cell_type": "code",
   "execution_count": 1,
   "id": "c0eb9799-6332-47fe-89af-0a2d1f6703c3",
   "metadata": {},
   "outputs": [],
   "source": [
    "import time \n",
    "start_alltime = time.time()## точка отсчета времени\n",
    "import cv2\n",
    "import numpy as np\n",
    "import os as os\n",
    "import pandas as pd\n",
    "from sklearn.model_selection import train_test_split, GridSearchCV\n",
    "from sklearn import svm\n",
    "from sklearn.metrics import *\n",
    "from sklearn import preprocessing\n",
    "from scipy import ndimage as ndi\n",
    "from sklearn.neighbors import KNeighborsClassifier"
   ]
  },
  {
   "cell_type": "code",
   "execution_count": 2,
   "id": "dc747b23-a312-4289-9cc0-b50dd3923d56",
   "metadata": {},
   "outputs": [],
   "source": [
    "def build_filters(): #построение фильтров\n",
    "        filters = []\n",
    "        ksize = 11\n",
    "        #sigma = 8.0\n",
    "        lambd = 10.0\n",
    "        gamma = 0.5\n",
    "        psi = 0\n",
    "        for theta in range(4):\n",
    "            theta = theta / 4. * np.pi\n",
    "            for sigma in (4, 8):\n",
    "                kern = cv2.getGaborKernel((ksize, ksize), sigma, theta, lambd, gamma, psi, ktype=cv2.CV_32F)\n",
    "                kern /= 1.5*kern.sum()\n",
    "                filters.append(kern)\n",
    "        return filters"
   ]
  },
  {
   "cell_type": "code",
   "execution_count": 3,
   "id": "c0aea64d-38fb-4649-ac96-8067821f4360",
   "metadata": {},
   "outputs": [],
   "source": [
    "def process(img, filters): #применение фильтров к фото\n",
    "    accum = np.zeros_like(img)\n",
    "    for kern in filters:\n",
    "        fimg = cv2.filter2D(img, cv2.CV_8UC3, kern)\n",
    "        np.maximum(accum, fimg, accum)\n",
    "        return accum\n",
    "    \n",
    "def compute_feats(image, kernels): #Применение для фичей\n",
    "    feats = np.zeros((len(kernels), 2), dtype=np.double)\n",
    "    for k, kernel in enumerate(kernels):\n",
    "        filtered = ndi.convolve(image, kernel, mode='wrap')\n",
    "        feats[k, 0] = filtered.mean() #среднее\n",
    "        feats[k, 1] = filtered.var() #дисперсия\n",
    "    return feats\n",
    "\n",
    "def extract_gab(images): #Это применение к фичи\n",
    "    gabs = []\n",
    "    for image in images:\n",
    "        gab = compute_feats(image,filters)\n",
    "        gabs.append(gab)\n",
    "    \n",
    "    return np.array(gabs)"
   ]
  },
  {
   "cell_type": "markdown",
   "id": "e885e088-709b-4dac-aa67-7538b0af3dbe",
   "metadata": {
    "tags": []
   },
   "source": [
    "## Загрузка изображений и перевод их в массивы ##"
   ]
  },
  {
   "cell_type": "code",
   "execution_count": 4,
   "id": "73dba0dc-9021-4f50-a635-69d10af89ce8",
   "metadata": {},
   "outputs": [],
   "source": [
    "def LaP_images(path):\n",
    "    images = []\n",
    "    filenames = os.listdir(path)\n",
    "    for filename in filenames:    \n",
    "        image = cv2.imread(os.path.join(path, filename),0)\n",
    "        image = cv2.resize(image, dsize=(150,150))\n",
    "        images.append(image)\n",
    "    return np.array(images)"
   ]
  },
  {
   "cell_type": "code",
   "execution_count": 5,
   "id": "65f84f19-b03d-4f2e-bab3-3c802f4ea53d",
   "metadata": {},
   "outputs": [],
   "source": [
    "start_LaP_time = time.time()## точка отсчета времени\n",
    "foil_train_dir = os.getcwd() + \"\\\\Desert\"\n",
    "corduroy_train_dir = os.getcwd() + \"\\\\DenseResidential\"\n",
    "cork_train_dir = os.getcwd() + \"\\\\Forest\"\n",
    "catton_train_dir = os.getcwd() + \"\\\\Meadow\"\n",
    "linen_train_dir = os.getcwd() + \"\\\\River\""
   ]
  },
  {
   "cell_type": "code",
   "execution_count": 6,
   "id": "7f64bae6-a79f-4b02-b8e2-f85b3d599bc0",
   "metadata": {},
   "outputs": [],
   "source": [
    "foil_train_list = LaP_images(foil_train_dir)\n",
    "corduroy_train_list = LaP_images(corduroy_train_dir)\n",
    "cork_train_list = LaP_images(cork_train_dir)\n",
    "catton_train_list = LaP_images(catton_train_dir)\n",
    "linen_train_list = LaP_images(linen_train_dir)"
   ]
  },
  {
   "cell_type": "code",
   "execution_count": 7,
   "id": "18386797-bda3-48f2-81d6-56a9d558ff93",
   "metadata": {},
   "outputs": [
    {
     "name": "stdout",
     "output_type": "stream",
     "text": [
      "150\n",
      "217\n",
      "217\n",
      "217\n",
      "217\n",
      "217\n"
     ]
    }
   ],
   "source": [
    "print(len(foil_train_list[1]))\n",
    "print(len(foil_train_list))\n",
    "print(len(corduroy_train_list))\n",
    "print(len(cork_train_list))\n",
    "print(len(catton_train_list))\n",
    "print(len(linen_train_list))"
   ]
  },
  {
   "cell_type": "markdown",
   "id": "d15ac244-1152-4abf-b09d-d690820da2b8",
   "metadata": {
    "tags": []
   },
   "source": [
    "\n",
    "## Формируем общий датафрейм и вытаскиваем признаки ##"
   ]
  },
  {
   "cell_type": "code",
   "execution_count": 8,
   "id": "84ab67a7-cbe2-4a92-bfca-739b179f1e4a",
   "metadata": {},
   "outputs": [
    {
     "name": "stdout",
     "output_type": "stream",
     "text": [
      "(1085, 150, 150) Shape before extract\n"
     ]
    }
   ],
   "source": [
    "start_EX_time = time.time()## точка отсчета времени\n",
    "all_images = np.vstack((foil_train_list,\n",
    "                        corduroy_train_list,\n",
    "                        cork_train_list,\n",
    "                        catton_train_list,\n",
    "                        linen_train_list\n",
    "                        ))\n",
    "print(all_images.shape,\"Shape before extract\")"
   ]
  },
  {
   "cell_type": "code",
   "execution_count": 9,
   "id": "3a61d13b-6761-4cf3-9b3e-57a1ed4c4a46",
   "metadata": {},
   "outputs": [
    {
     "name": "stdout",
     "output_type": "stream",
     "text": [
      "--- 3.293992042541504 seconds Load and preprocessing ---\n"
     ]
    }
   ],
   "source": [
    "labels = []\n",
    "for i in range(len(foil_train_list)):\n",
    "    labels.append(0)\n",
    "for i in range(len(corduroy_train_list)):\n",
    "    labels.append(1)\n",
    "for i in range(len(cork_train_list)):\n",
    "    labels.append(2)\n",
    "for i in range(len(catton_train_list)):\n",
    "    labels.append(3)\n",
    "for i in range(len(linen_train_list)):\n",
    "    labels.append(4)\n",
    "    \n",
    "labels = np.array(labels)\n",
    "print(\"--- %s seconds Load and preprocessing ---\" % (time.time() - start_LaP_time)) ## вывод время работы программы"
   ]
  },
  {
   "cell_type": "markdown",
   "id": "567b564c-291b-4525-b28c-c72d158e1586",
   "metadata": {},
   "source": [
    "> cv2.getGaborKernel(ksize, sigma, theta, lambda, gamma, psi, ktype) <br>\n",
    "> ksize - size of gabor filter (n, n) <br>\n",
    "> sigma - standard deviation of the gaussian function <br>\n",
    "> theta - orientation of the normal to the parallel stripes <br>\n",
    "> lambda - wavelength of the sunusoidal factor <br>\n",
    "> gamma - spatial aspect ratio <br>\n",
    "> psi - phase offset <br>\n",
    "> ktype - type and range of values that each pixel in the gabor kernel can hold <br>"
   ]
  },
  {
   "cell_type": "code",
   "execution_count": 10,
   "id": "027f56cf-835f-4b42-8560-1f8cefbf5368",
   "metadata": {},
   "outputs": [],
   "source": [
    "filters = build_filters()"
   ]
  },
  {
   "cell_type": "code",
   "execution_count": 11,
   "id": "604b0391-094d-4d96-9faa-7eb291268187",
   "metadata": {},
   "outputs": [
    {
     "data": {
      "text/plain": [
       "8"
      ]
     },
     "execution_count": 11,
     "metadata": {},
     "output_type": "execute_result"
    }
   ],
   "source": [
    "len(filters)"
   ]
  },
  {
   "cell_type": "code",
   "execution_count": 12,
   "id": "625d64dc-cab7-4552-8c15-7210aad0f2b4",
   "metadata": {},
   "outputs": [],
   "source": [
    "X_all_gab = extract_gab(all_images)\n"
   ]
  },
  {
   "cell_type": "code",
   "execution_count": 13,
   "id": "c8a68e91-21b2-4d48-bb2e-066843899e6d",
   "metadata": {},
   "outputs": [
    {
     "name": "stdout",
     "output_type": "stream",
     "text": [
      "--- 18.22455644607544 seconds EX ---\n"
     ]
    }
   ],
   "source": [
    "print(\"--- %s seconds EX ---\" % (time.time() - start_EX_time)) ## вывод время работы программы"
   ]
  },
  {
   "cell_type": "code",
   "execution_count": 14,
   "id": "c7ec00c1-fd88-42c8-a77f-f1a427f40f73",
   "metadata": {},
   "outputs": [
    {
     "data": {
      "text/plain": [
       "(1085, 8, 2)"
      ]
     },
     "execution_count": 14,
     "metadata": {},
     "output_type": "execute_result"
    }
   ],
   "source": [
    "X_all_gab.shape"
   ]
  },
  {
   "cell_type": "markdown",
   "id": "7635c8f1-8368-4dbf-80ac-cf17f8eca084",
   "metadata": {},
   "source": [
    "## Объединение признаков одного фото в один массив и преобразования в датасет для классификации ##"
   ]
  },
  {
   "cell_type": "code",
   "execution_count": 15,
   "id": "14e9f82e-7919-45e1-ab6f-c2b2dd007b42",
   "metadata": {},
   "outputs": [],
   "source": [
    "def create_histograms(images):\n",
    "    all_histograms = []\n",
    "    for i in images:\n",
    "        histogram = np.ravel(i)\n",
    "        all_histograms.append(histogram)\n",
    "    return np.array(all_histograms)"
   ]
  },
  {
   "cell_type": "code",
   "execution_count": 16,
   "id": "36873319-8683-47a7-9f6a-11fbc4e862fd",
   "metadata": {},
   "outputs": [
    {
     "name": "stdout",
     "output_type": "stream",
     "text": [
      "X_all_hist\t (1085, 16)\n"
     ]
    }
   ],
   "source": [
    "start_HIST_time = time.time()## точка отсчета времени\n",
    "X_all_hist = create_histograms(X_all_gab)\n",
    "\n",
    "\n",
    "print('X_all_hist\\t', X_all_hist.shape)\n",
    "\n"
   ]
  },
  {
   "cell_type": "code",
   "execution_count": 17,
   "id": "6000ad69-0986-4cd9-936a-50994e9997a7",
   "metadata": {},
   "outputs": [],
   "source": [
    "col = ['GT_th_0.0_sig_4_mean',\n",
    "  'GT_th_0.0_sig_4_var',\n",
    "  'GT_th_0.0_sig_8_mean',\n",
    "  'GT_th_0.0_sig_8_var',\n",
    "  'GT_th_1.0_sig_4_mean',\n",
    "  'GT_th_1.0_sig_4_var',\n",
    "  'GT_th_1.0_sig_8_mean',\n",
    "  'GT_th_1.0_sig_8_var',\n",
    "  'GT_th_2.0_sig_4_mean',\n",
    "  'GT_th_2.0_sig_4_var',\n",
    "  'GT_th_2.0_sig_8_mean',\n",
    "  'GT_th_2.0_sig_8_var',\n",
    "  'GT_th_3.0_sig_4_mean',\n",
    "  'GT_th_3.0_sig_4_var',\n",
    "  'GT_th_3.0_sig_8_mean',\n",
    "  'GT_th_3.0_sig_8_var']"
   ]
  },
  {
   "cell_type": "code",
   "execution_count": 18,
   "id": "8b52a256-4a97-4929-929a-ea62830b6ead",
   "metadata": {},
   "outputs": [],
   "source": [
    "result = pd.DataFrame(data = X_all_hist,columns = col)"
   ]
  },
  {
   "cell_type": "code",
   "execution_count": 19,
   "id": "61b05836-631a-4161-b287-7747c69a7f95",
   "metadata": {},
   "outputs": [],
   "source": [
    "#result['target'] = labels"
   ]
  },
  {
   "cell_type": "code",
   "execution_count": 20,
   "id": "4751fb80-6e91-495c-8295-c834f6aaf960",
   "metadata": {},
   "outputs": [
    {
     "name": "stdout",
     "output_type": "stream",
     "text": [
      "--- 0.06405830383300781 seconds Features tabl ---\n"
     ]
    },
    {
     "data": {
      "text/html": [
       "<div>\n",
       "<style scoped>\n",
       "    .dataframe tbody tr th:only-of-type {\n",
       "        vertical-align: middle;\n",
       "    }\n",
       "\n",
       "    .dataframe tbody tr th {\n",
       "        vertical-align: top;\n",
       "    }\n",
       "\n",
       "    .dataframe thead th {\n",
       "        text-align: right;\n",
       "    }\n",
       "</style>\n",
       "<table border=\"1\" class=\"dataframe\">\n",
       "  <thead>\n",
       "    <tr style=\"text-align: right;\">\n",
       "      <th></th>\n",
       "      <th>GT_th_0.0_sig_4_mean</th>\n",
       "      <th>GT_th_0.0_sig_4_var</th>\n",
       "      <th>GT_th_0.0_sig_8_mean</th>\n",
       "      <th>GT_th_0.0_sig_8_var</th>\n",
       "      <th>GT_th_1.0_sig_4_mean</th>\n",
       "      <th>GT_th_1.0_sig_4_var</th>\n",
       "      <th>GT_th_1.0_sig_8_mean</th>\n",
       "      <th>GT_th_1.0_sig_8_var</th>\n",
       "      <th>GT_th_2.0_sig_4_mean</th>\n",
       "      <th>GT_th_2.0_sig_4_var</th>\n",
       "      <th>GT_th_2.0_sig_8_mean</th>\n",
       "      <th>GT_th_2.0_sig_8_var</th>\n",
       "      <th>GT_th_3.0_sig_4_mean</th>\n",
       "      <th>GT_th_3.0_sig_4_var</th>\n",
       "      <th>GT_th_3.0_sig_8_mean</th>\n",
       "      <th>GT_th_3.0_sig_8_var</th>\n",
       "    </tr>\n",
       "  </thead>\n",
       "  <tbody>\n",
       "    <tr>\n",
       "      <th>0</th>\n",
       "      <td>108.564044</td>\n",
       "      <td>48.378432</td>\n",
       "      <td>108.567867</td>\n",
       "      <td>175.342994</td>\n",
       "      <td>108.564000</td>\n",
       "      <td>12.489726</td>\n",
       "      <td>108.561689</td>\n",
       "      <td>28.549217</td>\n",
       "      <td>108.567422</td>\n",
       "      <td>38.109365</td>\n",
       "      <td>108.564756</td>\n",
       "      <td>115.878696</td>\n",
       "      <td>108.569556</td>\n",
       "      <td>9.531206</td>\n",
       "      <td>108.566756</td>\n",
       "      <td>17.799321</td>\n",
       "    </tr>\n",
       "    <tr>\n",
       "      <th>1</th>\n",
       "      <td>105.714667</td>\n",
       "      <td>50.376274</td>\n",
       "      <td>105.718356</td>\n",
       "      <td>177.177876</td>\n",
       "      <td>105.719467</td>\n",
       "      <td>15.896057</td>\n",
       "      <td>105.718889</td>\n",
       "      <td>50.762621</td>\n",
       "      <td>105.718756</td>\n",
       "      <td>145.830857</td>\n",
       "      <td>105.714800</td>\n",
       "      <td>537.357639</td>\n",
       "      <td>105.715289</td>\n",
       "      <td>19.907295</td>\n",
       "      <td>105.717822</td>\n",
       "      <td>65.188420</td>\n",
       "    </tr>\n",
       "    <tr>\n",
       "      <th>2</th>\n",
       "      <td>120.786489</td>\n",
       "      <td>83.166146</td>\n",
       "      <td>120.786356</td>\n",
       "      <td>145.666312</td>\n",
       "      <td>120.782222</td>\n",
       "      <td>41.565373</td>\n",
       "      <td>120.785822</td>\n",
       "      <td>47.927328</td>\n",
       "      <td>120.786267</td>\n",
       "      <td>71.439163</td>\n",
       "      <td>120.785378</td>\n",
       "      <td>119.977360</td>\n",
       "      <td>120.780933</td>\n",
       "      <td>47.698632</td>\n",
       "      <td>120.786444</td>\n",
       "      <td>68.093994</td>\n",
       "    </tr>\n",
       "    <tr>\n",
       "      <th>3</th>\n",
       "      <td>97.922667</td>\n",
       "      <td>199.529931</td>\n",
       "      <td>98.105556</td>\n",
       "      <td>427.751214</td>\n",
       "      <td>97.774578</td>\n",
       "      <td>91.388118</td>\n",
       "      <td>97.772222</td>\n",
       "      <td>159.512073</td>\n",
       "      <td>98.106756</td>\n",
       "      <td>337.040692</td>\n",
       "      <td>99.476844</td>\n",
       "      <td>768.118619</td>\n",
       "      <td>97.773244</td>\n",
       "      <td>97.514715</td>\n",
       "      <td>97.776311</td>\n",
       "      <td>175.345119</td>\n",
       "    </tr>\n",
       "    <tr>\n",
       "      <th>4</th>\n",
       "      <td>121.163244</td>\n",
       "      <td>228.232418</td>\n",
       "      <td>121.038756</td>\n",
       "      <td>310.204009</td>\n",
       "      <td>120.761911</td>\n",
       "      <td>113.972069</td>\n",
       "      <td>120.767022</td>\n",
       "      <td>155.791232</td>\n",
       "      <td>120.877867</td>\n",
       "      <td>260.982328</td>\n",
       "      <td>120.923200</td>\n",
       "      <td>464.084324</td>\n",
       "      <td>120.764578</td>\n",
       "      <td>121.107465</td>\n",
       "      <td>120.759956</td>\n",
       "      <td>176.973534</td>\n",
       "    </tr>\n",
       "    <tr>\n",
       "      <th>...</th>\n",
       "      <td>...</td>\n",
       "      <td>...</td>\n",
       "      <td>...</td>\n",
       "      <td>...</td>\n",
       "      <td>...</td>\n",
       "      <td>...</td>\n",
       "      <td>...</td>\n",
       "      <td>...</td>\n",
       "      <td>...</td>\n",
       "      <td>...</td>\n",
       "      <td>...</td>\n",
       "      <td>...</td>\n",
       "      <td>...</td>\n",
       "      <td>...</td>\n",
       "      <td>...</td>\n",
       "      <td>...</td>\n",
       "    </tr>\n",
       "    <tr>\n",
       "      <th>1080</th>\n",
       "      <td>62.634311</td>\n",
       "      <td>936.396494</td>\n",
       "      <td>70.259822</td>\n",
       "      <td>2094.745115</td>\n",
       "      <td>60.606267</td>\n",
       "      <td>297.216130</td>\n",
       "      <td>61.920978</td>\n",
       "      <td>698.467089</td>\n",
       "      <td>63.607067</td>\n",
       "      <td>947.091248</td>\n",
       "      <td>71.081511</td>\n",
       "      <td>2176.747934</td>\n",
       "      <td>60.602444</td>\n",
       "      <td>227.293905</td>\n",
       "      <td>61.131111</td>\n",
       "      <td>404.232765</td>\n",
       "    </tr>\n",
       "    <tr>\n",
       "      <th>1081</th>\n",
       "      <td>78.740978</td>\n",
       "      <td>1153.198152</td>\n",
       "      <td>88.990756</td>\n",
       "      <td>2630.356003</td>\n",
       "      <td>75.130311</td>\n",
       "      <td>373.992175</td>\n",
       "      <td>76.990489</td>\n",
       "      <td>799.806843</td>\n",
       "      <td>75.496622</td>\n",
       "      <td>548.197100</td>\n",
       "      <td>78.614356</td>\n",
       "      <td>1227.120123</td>\n",
       "      <td>75.125822</td>\n",
       "      <td>304.737013</td>\n",
       "      <td>75.128978</td>\n",
       "      <td>412.438476</td>\n",
       "    </tr>\n",
       "    <tr>\n",
       "      <th>1082</th>\n",
       "      <td>75.802622</td>\n",
       "      <td>915.320375</td>\n",
       "      <td>82.504044</td>\n",
       "      <td>1927.772917</td>\n",
       "      <td>73.508444</td>\n",
       "      <td>374.337395</td>\n",
       "      <td>74.034800</td>\n",
       "      <td>720.073500</td>\n",
       "      <td>76.116044</td>\n",
       "      <td>1057.557334</td>\n",
       "      <td>84.701467</td>\n",
       "      <td>2166.092967</td>\n",
       "      <td>73.508667</td>\n",
       "      <td>300.435880</td>\n",
       "      <td>74.099556</td>\n",
       "      <td>494.970622</td>\n",
       "    </tr>\n",
       "    <tr>\n",
       "      <th>1083</th>\n",
       "      <td>75.333644</td>\n",
       "      <td>1901.610504</td>\n",
       "      <td>86.701378</td>\n",
       "      <td>3032.460291</td>\n",
       "      <td>71.366978</td>\n",
       "      <td>527.286172</td>\n",
       "      <td>72.021378</td>\n",
       "      <td>999.645187</td>\n",
       "      <td>74.512311</td>\n",
       "      <td>1432.183982</td>\n",
       "      <td>81.017111</td>\n",
       "      <td>2084.214329</td>\n",
       "      <td>71.369733</td>\n",
       "      <td>449.471075</td>\n",
       "      <td>71.639600</td>\n",
       "      <td>710.105356</td>\n",
       "    </tr>\n",
       "    <tr>\n",
       "      <th>1084</th>\n",
       "      <td>69.116267</td>\n",
       "      <td>704.202749</td>\n",
       "      <td>78.386578</td>\n",
       "      <td>1984.850558</td>\n",
       "      <td>68.439600</td>\n",
       "      <td>191.931330</td>\n",
       "      <td>68.484844</td>\n",
       "      <td>380.104970</td>\n",
       "      <td>71.686311</td>\n",
       "      <td>1218.540444</td>\n",
       "      <td>86.344267</td>\n",
       "      <td>3086.287169</td>\n",
       "      <td>68.442800</td>\n",
       "      <td>318.451706</td>\n",
       "      <td>69.685422</td>\n",
       "      <td>928.345485</td>\n",
       "    </tr>\n",
       "  </tbody>\n",
       "</table>\n",
       "<p>1085 rows × 16 columns</p>\n",
       "</div>"
      ],
      "text/plain": [
       "      GT_th_0.0_sig_4_mean  GT_th_0.0_sig_4_var  GT_th_0.0_sig_8_mean  \\\n",
       "0               108.564044            48.378432            108.567867   \n",
       "1               105.714667            50.376274            105.718356   \n",
       "2               120.786489            83.166146            120.786356   \n",
       "3                97.922667           199.529931             98.105556   \n",
       "4               121.163244           228.232418            121.038756   \n",
       "...                    ...                  ...                   ...   \n",
       "1080             62.634311           936.396494             70.259822   \n",
       "1081             78.740978          1153.198152             88.990756   \n",
       "1082             75.802622           915.320375             82.504044   \n",
       "1083             75.333644          1901.610504             86.701378   \n",
       "1084             69.116267           704.202749             78.386578   \n",
       "\n",
       "      GT_th_0.0_sig_8_var  GT_th_1.0_sig_4_mean  GT_th_1.0_sig_4_var  \\\n",
       "0              175.342994            108.564000            12.489726   \n",
       "1              177.177876            105.719467            15.896057   \n",
       "2              145.666312            120.782222            41.565373   \n",
       "3              427.751214             97.774578            91.388118   \n",
       "4              310.204009            120.761911           113.972069   \n",
       "...                   ...                   ...                  ...   \n",
       "1080          2094.745115             60.606267           297.216130   \n",
       "1081          2630.356003             75.130311           373.992175   \n",
       "1082          1927.772917             73.508444           374.337395   \n",
       "1083          3032.460291             71.366978           527.286172   \n",
       "1084          1984.850558             68.439600           191.931330   \n",
       "\n",
       "      GT_th_1.0_sig_8_mean  GT_th_1.0_sig_8_var  GT_th_2.0_sig_4_mean  \\\n",
       "0               108.561689            28.549217            108.567422   \n",
       "1               105.718889            50.762621            105.718756   \n",
       "2               120.785822            47.927328            120.786267   \n",
       "3                97.772222           159.512073             98.106756   \n",
       "4               120.767022           155.791232            120.877867   \n",
       "...                    ...                  ...                   ...   \n",
       "1080             61.920978           698.467089             63.607067   \n",
       "1081             76.990489           799.806843             75.496622   \n",
       "1082             74.034800           720.073500             76.116044   \n",
       "1083             72.021378           999.645187             74.512311   \n",
       "1084             68.484844           380.104970             71.686311   \n",
       "\n",
       "      GT_th_2.0_sig_4_var  GT_th_2.0_sig_8_mean  GT_th_2.0_sig_8_var  \\\n",
       "0               38.109365            108.564756           115.878696   \n",
       "1              145.830857            105.714800           537.357639   \n",
       "2               71.439163            120.785378           119.977360   \n",
       "3              337.040692             99.476844           768.118619   \n",
       "4              260.982328            120.923200           464.084324   \n",
       "...                   ...                   ...                  ...   \n",
       "1080           947.091248             71.081511          2176.747934   \n",
       "1081           548.197100             78.614356          1227.120123   \n",
       "1082          1057.557334             84.701467          2166.092967   \n",
       "1083          1432.183982             81.017111          2084.214329   \n",
       "1084          1218.540444             86.344267          3086.287169   \n",
       "\n",
       "      GT_th_3.0_sig_4_mean  GT_th_3.0_sig_4_var  GT_th_3.0_sig_8_mean  \\\n",
       "0               108.569556             9.531206            108.566756   \n",
       "1               105.715289            19.907295            105.717822   \n",
       "2               120.780933            47.698632            120.786444   \n",
       "3                97.773244            97.514715             97.776311   \n",
       "4               120.764578           121.107465            120.759956   \n",
       "...                    ...                  ...                   ...   \n",
       "1080             60.602444           227.293905             61.131111   \n",
       "1081             75.125822           304.737013             75.128978   \n",
       "1082             73.508667           300.435880             74.099556   \n",
       "1083             71.369733           449.471075             71.639600   \n",
       "1084             68.442800           318.451706             69.685422   \n",
       "\n",
       "      GT_th_3.0_sig_8_var  \n",
       "0               17.799321  \n",
       "1               65.188420  \n",
       "2               68.093994  \n",
       "3              175.345119  \n",
       "4              176.973534  \n",
       "...                   ...  \n",
       "1080           404.232765  \n",
       "1081           412.438476  \n",
       "1082           494.970622  \n",
       "1083           710.105356  \n",
       "1084           928.345485  \n",
       "\n",
       "[1085 rows x 16 columns]"
      ]
     },
     "execution_count": 20,
     "metadata": {},
     "output_type": "execute_result"
    }
   ],
   "source": [
    "print(\"--- %s seconds Features tabl ---\" % (time.time() - start_HIST_time)) ## вывод время работы программы\n",
    "result"
   ]
  },
  {
   "cell_type": "markdown",
   "id": "f67fef0e-e893-4e18-92ab-fca31b3eaafa",
   "metadata": {},
   "source": [
    "## Обучение классификатора ##"
   ]
  },
  {
   "cell_type": "code",
   "execution_count": 21,
   "id": "ec949c4c-36a3-4a1d-b5ef-7f7d4ec31aa4",
   "metadata": {},
   "outputs": [],
   "source": [
    "X = result\n",
    "\n",
    "scaler = preprocessing.StandardScaler().fit(X)\n",
    "X_scaled = scaler.transform(X)\n",
    "\n",
    "Y = labels\n",
    "\n",
    "X_train, X_test, Y_train, Y_test = train_test_split(X_scaled, Y, test_size = 0.30)"
   ]
  },
  {
   "cell_type": "code",
   "execution_count": 22,
   "id": "3e0ed2f8-9435-4568-9127-58e640623f30",
   "metadata": {},
   "outputs": [
    {
     "name": "stdout",
     "output_type": "stream",
     "text": [
      "Fitting 5 folds for each of 9 candidates, totalling 45 fits\n",
      "--- 0.6335756778717041 seconds SVM+GridSearch fit ---\n"
     ]
    }
   ],
   "source": [
    "start_SVM_time = time.time()## точка отсчета времени\n",
    "clf_svm = svm.SVC()\n",
    "param_grid = {'C':[350,400,450],'gamma':[0.1,0.5,1.0]} #param_grid = {'C':[50,100,150],'gamma':[0.5,1,1.5],'kernel':['rbf','poly']}\n",
    "grid_search_svm_clf=GridSearchCV(clf_svm,param_grid, refit = True, verbose=1)\n",
    "grid_search_svm_clf.fit(X_train, Y_train)\n",
    "print(\"--- %s seconds SVM+GridSearch fit ---\" % (time.time() - start_SVM_time)) ## вывод время работы программы"
   ]
  },
  {
   "cell_type": "code",
   "execution_count": 23,
   "id": "c15d9b7c-d3a7-416d-8f96-909d0a02bc00",
   "metadata": {},
   "outputs": [
    {
     "data": {
      "text/html": [
       "<style>#sk-container-id-1 {color: black;background-color: white;}#sk-container-id-1 pre{padding: 0;}#sk-container-id-1 div.sk-toggleable {background-color: white;}#sk-container-id-1 label.sk-toggleable__label {cursor: pointer;display: block;width: 100%;margin-bottom: 0;padding: 0.3em;box-sizing: border-box;text-align: center;}#sk-container-id-1 label.sk-toggleable__label-arrow:before {content: \"▸\";float: left;margin-right: 0.25em;color: #696969;}#sk-container-id-1 label.sk-toggleable__label-arrow:hover:before {color: black;}#sk-container-id-1 div.sk-estimator:hover label.sk-toggleable__label-arrow:before {color: black;}#sk-container-id-1 div.sk-toggleable__content {max-height: 0;max-width: 0;overflow: hidden;text-align: left;background-color: #f0f8ff;}#sk-container-id-1 div.sk-toggleable__content pre {margin: 0.2em;color: black;border-radius: 0.25em;background-color: #f0f8ff;}#sk-container-id-1 input.sk-toggleable__control:checked~div.sk-toggleable__content {max-height: 200px;max-width: 100%;overflow: auto;}#sk-container-id-1 input.sk-toggleable__control:checked~label.sk-toggleable__label-arrow:before {content: \"▾\";}#sk-container-id-1 div.sk-estimator input.sk-toggleable__control:checked~label.sk-toggleable__label {background-color: #d4ebff;}#sk-container-id-1 div.sk-label input.sk-toggleable__control:checked~label.sk-toggleable__label {background-color: #d4ebff;}#sk-container-id-1 input.sk-hidden--visually {border: 0;clip: rect(1px 1px 1px 1px);clip: rect(1px, 1px, 1px, 1px);height: 1px;margin: -1px;overflow: hidden;padding: 0;position: absolute;width: 1px;}#sk-container-id-1 div.sk-estimator {font-family: monospace;background-color: #f0f8ff;border: 1px dotted black;border-radius: 0.25em;box-sizing: border-box;margin-bottom: 0.5em;}#sk-container-id-1 div.sk-estimator:hover {background-color: #d4ebff;}#sk-container-id-1 div.sk-parallel-item::after {content: \"\";width: 100%;border-bottom: 1px solid gray;flex-grow: 1;}#sk-container-id-1 div.sk-label:hover label.sk-toggleable__label {background-color: #d4ebff;}#sk-container-id-1 div.sk-serial::before {content: \"\";position: absolute;border-left: 1px solid gray;box-sizing: border-box;top: 0;bottom: 0;left: 50%;z-index: 0;}#sk-container-id-1 div.sk-serial {display: flex;flex-direction: column;align-items: center;background-color: white;padding-right: 0.2em;padding-left: 0.2em;position: relative;}#sk-container-id-1 div.sk-item {position: relative;z-index: 1;}#sk-container-id-1 div.sk-parallel {display: flex;align-items: stretch;justify-content: center;background-color: white;position: relative;}#sk-container-id-1 div.sk-item::before, #sk-container-id-1 div.sk-parallel-item::before {content: \"\";position: absolute;border-left: 1px solid gray;box-sizing: border-box;top: 0;bottom: 0;left: 50%;z-index: -1;}#sk-container-id-1 div.sk-parallel-item {display: flex;flex-direction: column;z-index: 1;position: relative;background-color: white;}#sk-container-id-1 div.sk-parallel-item:first-child::after {align-self: flex-end;width: 50%;}#sk-container-id-1 div.sk-parallel-item:last-child::after {align-self: flex-start;width: 50%;}#sk-container-id-1 div.sk-parallel-item:only-child::after {width: 0;}#sk-container-id-1 div.sk-dashed-wrapped {border: 1px dashed gray;margin: 0 0.4em 0.5em 0.4em;box-sizing: border-box;padding-bottom: 0.4em;background-color: white;}#sk-container-id-1 div.sk-label label {font-family: monospace;font-weight: bold;display: inline-block;line-height: 1.2em;}#sk-container-id-1 div.sk-label-container {text-align: center;}#sk-container-id-1 div.sk-container {/* jupyter's `normalize.less` sets `[hidden] { display: none; }` but bootstrap.min.css set `[hidden] { display: none !important; }` so we also need the `!important` here to be able to override the default hidden behavior on the sphinx rendered scikit-learn.org. See: https://github.com/scikit-learn/scikit-learn/issues/21755 */display: inline-block !important;position: relative;}#sk-container-id-1 div.sk-text-repr-fallback {display: none;}</style><div id=\"sk-container-id-1\" class=\"sk-top-container\"><div class=\"sk-text-repr-fallback\"><pre>SVC(C=350, gamma=0.1)</pre><b>In a Jupyter environment, please rerun this cell to show the HTML representation or trust the notebook. <br />On GitHub, the HTML representation is unable to render, please try loading this page with nbviewer.org.</b></div><div class=\"sk-container\" hidden><div class=\"sk-item\"><div class=\"sk-estimator sk-toggleable\"><input class=\"sk-toggleable__control sk-hidden--visually\" id=\"sk-estimator-id-1\" type=\"checkbox\" checked><label for=\"sk-estimator-id-1\" class=\"sk-toggleable__label sk-toggleable__label-arrow\">SVC</label><div class=\"sk-toggleable__content\"><pre>SVC(C=350, gamma=0.1)</pre></div></div></div></div></div>"
      ],
      "text/plain": [
       "SVC(C=350, gamma=0.1)"
      ]
     },
     "execution_count": 23,
     "metadata": {},
     "output_type": "execute_result"
    }
   ],
   "source": [
    "grid_search_svm_clf.best_estimator_"
   ]
  },
  {
   "cell_type": "code",
   "execution_count": 24,
   "id": "5ffac500-df0e-41dc-afa9-fb383e9d035c",
   "metadata": {},
   "outputs": [
    {
     "name": "stdout",
     "output_type": "stream",
     "text": [
      "Accuracy: 0.8466257668711656\n",
      "              precision    recall  f1-score   support\n",
      "\n",
      "           0       0.94      1.00      0.97        67\n",
      "           1       0.89      0.89      0.89        63\n",
      "           2       0.70      0.79      0.74        66\n",
      "           3       0.86      0.86      0.86        57\n",
      "           4       0.85      0.71      0.78        73\n",
      "\n",
      "    accuracy                           0.85       326\n",
      "   macro avg       0.85      0.85      0.85       326\n",
      "weighted avg       0.85      0.85      0.85       326\n",
      "\n",
      "--- 0.008007049560546875 seconds Predict time ---\n"
     ]
    }
   ],
   "source": [
    "start_PR_time = time.time()## точка отсчета времени\n",
    "best_svm = grid_search_svm_clf.best_estimator_\n",
    "Y_pred_svm = best_svm.predict(X_test)\n",
    "print(\"Accuracy:\",accuracy_score(Y_test, Y_pred_svm))\n",
    "print(classification_report(Y_test, Y_pred_svm))\n",
    "print(\"--- %s seconds Predict time ---\" % (time.time() - start_PR_time)) ## вывод время работы программы"
   ]
  },
  {
   "cell_type": "code",
   "execution_count": 25,
   "id": "2c574128-dd3e-4524-ba60-128c2bcb98a3",
   "metadata": {},
   "outputs": [
    {
     "name": "stdout",
     "output_type": "stream",
     "text": [
      "--- 23.01590847969055 seconds ALL ---\n"
     ]
    }
   ],
   "source": [
    "print(\"--- %s seconds ALL ---\" % (time.time() - start_alltime)) ## вывод время работы программы"
   ]
  },
  {
   "cell_type": "code",
   "execution_count": 26,
   "id": "cad1864f-4e22-460b-833c-a33de4726e58",
   "metadata": {},
   "outputs": [
    {
     "name": "stdout",
     "output_type": "stream",
     "text": [
      "KNN train acc\t: 1.0\n",
      "KNN test acc\t: 0.8374233128834356\n",
      "--- 0.09508609771728516 seconds KNN ---\n"
     ]
    }
   ],
   "source": [
    "start_KNN_time = time.time()## точка отсчета времени\n",
    "\n",
    "model_knn = KNeighborsClassifier(n_neighbors=1)\n",
    "model_knn.fit(X_train, Y_train)\n",
    "\n",
    "print('KNN train acc\\t:', model_knn.score(X_train, Y_train))\n",
    "print('KNN test acc\\t:', model_knn.score(X_test, Y_test))\n",
    "\n",
    "print(\"--- %s seconds KNN ---\" % (time.time() - start_KNN_time)) ## вывод время работы программы"
   ]
  },
  {
   "cell_type": "code",
   "execution_count": 27,
   "id": "7d022079-cf5a-41a7-90b1-fd4a72f96d42",
   "metadata": {},
   "outputs": [],
   "source": [
    "start_TEST_time = time.time()## точка отсчета времени\n",
    "\n",
    "foil_test_dir = os.getcwd() + \"\\\\Desert_test\"\n",
    "corduroy_test_dir = os.getcwd() + \"\\\\DenseResidential_test\"\n",
    "cork_test_dir = os.getcwd() + \"\\\\Forest_test\"\n",
    "catton_test_dir = os.getcwd() + \"\\\\Meadow_test\"\n",
    "linen_test_dir = os.getcwd() + \"\\\\River_test\"\n",
    "\n",
    "\n",
    "foil_test_list = LaP_images(foil_test_dir)\n",
    "corduroy_test_list = LaP_images(corduroy_test_dir)\n",
    "cork_test_list = LaP_images(cork_test_dir)\n",
    "catton_test_list = LaP_images(catton_test_dir)\n",
    "linen_test_list = LaP_images(linen_test_dir)\n",
    "\n",
    "\n",
    "all_test_images = np.vstack((foil_test_list,\n",
    "                        corduroy_test_list,\n",
    "                        cork_test_list,\n",
    "                        catton_test_list,\n",
    "                        linen_test_list\n",
    "                        ))\n",
    "\n",
    "labels_test = []\n",
    "for i in range(len(foil_test_list)):\n",
    "    labels_test.append(0)\n",
    "for i in range(len(corduroy_test_list)):\n",
    "    labels_test.append(1)\n",
    "for i in range(len(cork_test_list)):\n",
    "    labels_test.append(2)\n",
    "for i in range(len(catton_test_list)):\n",
    "    labels_test.append(3)\n",
    "for i in range(len(linen_test_list)):\n",
    "    labels_test.append(4)\n",
    "\n",
    "    \n",
    "labels_test = np.array(labels_test)"
   ]
  },
  {
   "cell_type": "code",
   "execution_count": 28,
   "id": "cfcd4abe-52f1-4758-b5a1-1ca3ed8e7cc9",
   "metadata": {},
   "outputs": [
    {
     "data": {
      "text/plain": [
       "(1085, 8, 2)"
      ]
     },
     "execution_count": 28,
     "metadata": {},
     "output_type": "execute_result"
    }
   ],
   "source": [
    "X_test_gab = extract_gab(all_test_images)\n",
    "X_all_gab.shape"
   ]
  },
  {
   "cell_type": "code",
   "execution_count": 29,
   "id": "9638cc6c-eebf-48e7-a099-57db3cfd6549",
   "metadata": {},
   "outputs": [],
   "source": [
    "X_test_hist = create_histograms(X_test_gab)"
   ]
  },
  {
   "cell_type": "code",
   "execution_count": 30,
   "id": "0d2e258f-e944-4b52-809b-512f6ddad25b",
   "metadata": {},
   "outputs": [],
   "source": [
    "result_test = pd.DataFrame(data = X_test_hist,columns = col)"
   ]
  },
  {
   "cell_type": "code",
   "execution_count": 31,
   "id": "89056471-523f-4679-8039-9a19c8f94c81",
   "metadata": {},
   "outputs": [
    {
     "data": {
      "text/html": [
       "<div>\n",
       "<style scoped>\n",
       "    .dataframe tbody tr th:only-of-type {\n",
       "        vertical-align: middle;\n",
       "    }\n",
       "\n",
       "    .dataframe tbody tr th {\n",
       "        vertical-align: top;\n",
       "    }\n",
       "\n",
       "    .dataframe thead th {\n",
       "        text-align: right;\n",
       "    }\n",
       "</style>\n",
       "<table border=\"1\" class=\"dataframe\">\n",
       "  <thead>\n",
       "    <tr style=\"text-align: right;\">\n",
       "      <th></th>\n",
       "      <th>GT_th_0.0_sig_4_mean</th>\n",
       "      <th>GT_th_0.0_sig_4_var</th>\n",
       "      <th>GT_th_0.0_sig_8_mean</th>\n",
       "      <th>GT_th_0.0_sig_8_var</th>\n",
       "      <th>GT_th_1.0_sig_4_mean</th>\n",
       "      <th>GT_th_1.0_sig_4_var</th>\n",
       "      <th>GT_th_1.0_sig_8_mean</th>\n",
       "      <th>GT_th_1.0_sig_8_var</th>\n",
       "      <th>GT_th_2.0_sig_4_mean</th>\n",
       "      <th>GT_th_2.0_sig_4_var</th>\n",
       "      <th>GT_th_2.0_sig_8_mean</th>\n",
       "      <th>GT_th_2.0_sig_8_var</th>\n",
       "      <th>GT_th_3.0_sig_4_mean</th>\n",
       "      <th>GT_th_3.0_sig_4_var</th>\n",
       "      <th>GT_th_3.0_sig_8_mean</th>\n",
       "      <th>GT_th_3.0_sig_8_var</th>\n",
       "    </tr>\n",
       "  </thead>\n",
       "  <tbody>\n",
       "    <tr>\n",
       "      <th>0</th>\n",
       "      <td>115.088711</td>\n",
       "      <td>43.718708</td>\n",
       "      <td>115.090844</td>\n",
       "      <td>62.517614</td>\n",
       "      <td>115.090800</td>\n",
       "      <td>37.402644</td>\n",
       "      <td>115.093022</td>\n",
       "      <td>78.720991</td>\n",
       "      <td>115.094578</td>\n",
       "      <td>82.537544</td>\n",
       "      <td>115.090889</td>\n",
       "      <td>151.102095</td>\n",
       "      <td>115.092578</td>\n",
       "      <td>15.989874</td>\n",
       "      <td>115.092800</td>\n",
       "      <td>18.297699</td>\n",
       "    </tr>\n",
       "    <tr>\n",
       "      <th>1</th>\n",
       "      <td>93.955467</td>\n",
       "      <td>146.156861</td>\n",
       "      <td>94.185156</td>\n",
       "      <td>364.516917</td>\n",
       "      <td>93.954578</td>\n",
       "      <td>44.148515</td>\n",
       "      <td>93.955111</td>\n",
       "      <td>98.120296</td>\n",
       "      <td>93.951600</td>\n",
       "      <td>315.909435</td>\n",
       "      <td>94.904489</td>\n",
       "      <td>963.596078</td>\n",
       "      <td>93.958489</td>\n",
       "      <td>74.967432</td>\n",
       "      <td>93.960444</td>\n",
       "      <td>188.257369</td>\n",
       "    </tr>\n",
       "    <tr>\n",
       "      <th>2</th>\n",
       "      <td>102.915378</td>\n",
       "      <td>28.935328</td>\n",
       "      <td>102.910711</td>\n",
       "      <td>66.404161</td>\n",
       "      <td>102.908578</td>\n",
       "      <td>22.504575</td>\n",
       "      <td>102.912622</td>\n",
       "      <td>57.516987</td>\n",
       "      <td>102.912311</td>\n",
       "      <td>91.271111</td>\n",
       "      <td>102.912978</td>\n",
       "      <td>305.688427</td>\n",
       "      <td>102.913422</td>\n",
       "      <td>10.974015</td>\n",
       "      <td>102.914044</td>\n",
       "      <td>19.266656</td>\n",
       "    </tr>\n",
       "    <tr>\n",
       "      <th>3</th>\n",
       "      <td>111.509778</td>\n",
       "      <td>193.259593</td>\n",
       "      <td>111.509422</td>\n",
       "      <td>478.073022</td>\n",
       "      <td>111.507067</td>\n",
       "      <td>121.538039</td>\n",
       "      <td>111.508400</td>\n",
       "      <td>352.264063</td>\n",
       "      <td>111.504089</td>\n",
       "      <td>525.558694</td>\n",
       "      <td>112.376756</td>\n",
       "      <td>1726.584144</td>\n",
       "      <td>111.507156</td>\n",
       "      <td>64.016438</td>\n",
       "      <td>111.512444</td>\n",
       "      <td>145.124956</td>\n",
       "    </tr>\n",
       "    <tr>\n",
       "      <th>4</th>\n",
       "      <td>101.697556</td>\n",
       "      <td>143.830972</td>\n",
       "      <td>101.697556</td>\n",
       "      <td>475.109105</td>\n",
       "      <td>101.697067</td>\n",
       "      <td>20.985831</td>\n",
       "      <td>101.698133</td>\n",
       "      <td>56.299454</td>\n",
       "      <td>101.700489</td>\n",
       "      <td>55.070249</td>\n",
       "      <td>101.698222</td>\n",
       "      <td>150.595686</td>\n",
       "      <td>101.700133</td>\n",
       "      <td>27.961858</td>\n",
       "      <td>101.694489</td>\n",
       "      <td>79.571196</td>\n",
       "    </tr>\n",
       "    <tr>\n",
       "      <th>...</th>\n",
       "      <td>...</td>\n",
       "      <td>...</td>\n",
       "      <td>...</td>\n",
       "      <td>...</td>\n",
       "      <td>...</td>\n",
       "      <td>...</td>\n",
       "      <td>...</td>\n",
       "      <td>...</td>\n",
       "      <td>...</td>\n",
       "      <td>...</td>\n",
       "      <td>...</td>\n",
       "      <td>...</td>\n",
       "      <td>...</td>\n",
       "      <td>...</td>\n",
       "      <td>...</td>\n",
       "      <td>...</td>\n",
       "    </tr>\n",
       "    <tr>\n",
       "      <th>160</th>\n",
       "      <td>49.031511</td>\n",
       "      <td>773.724651</td>\n",
       "      <td>56.080489</td>\n",
       "      <td>1665.175788</td>\n",
       "      <td>47.091644</td>\n",
       "      <td>302.749912</td>\n",
       "      <td>50.228756</td>\n",
       "      <td>1058.133938</td>\n",
       "      <td>51.567067</td>\n",
       "      <td>1185.857680</td>\n",
       "      <td>55.237156</td>\n",
       "      <td>1546.824557</td>\n",
       "      <td>47.091467</td>\n",
       "      <td>187.049412</td>\n",
       "      <td>47.615200</td>\n",
       "      <td>333.855040</td>\n",
       "    </tr>\n",
       "    <tr>\n",
       "      <th>161</th>\n",
       "      <td>51.151511</td>\n",
       "      <td>1048.278244</td>\n",
       "      <td>61.225067</td>\n",
       "      <td>2392.708456</td>\n",
       "      <td>47.552400</td>\n",
       "      <td>224.373565</td>\n",
       "      <td>49.230667</td>\n",
       "      <td>658.449548</td>\n",
       "      <td>49.112178</td>\n",
       "      <td>696.928216</td>\n",
       "      <td>56.359689</td>\n",
       "      <td>1722.998846</td>\n",
       "      <td>47.551244</td>\n",
       "      <td>249.317418</td>\n",
       "      <td>51.894711</td>\n",
       "      <td>1112.210736</td>\n",
       "    </tr>\n",
       "    <tr>\n",
       "      <th>162</th>\n",
       "      <td>56.859244</td>\n",
       "      <td>147.289210</td>\n",
       "      <td>58.698044</td>\n",
       "      <td>560.846512</td>\n",
       "      <td>56.832311</td>\n",
       "      <td>55.631658</td>\n",
       "      <td>56.835200</td>\n",
       "      <td>109.260485</td>\n",
       "      <td>56.833911</td>\n",
       "      <td>125.628459</td>\n",
       "      <td>57.908667</td>\n",
       "      <td>394.297214</td>\n",
       "      <td>56.836222</td>\n",
       "      <td>40.868244</td>\n",
       "      <td>56.834489</td>\n",
       "      <td>68.590562</td>\n",
       "    </tr>\n",
       "    <tr>\n",
       "      <th>163</th>\n",
       "      <td>52.047022</td>\n",
       "      <td>107.753611</td>\n",
       "      <td>52.604267</td>\n",
       "      <td>331.087573</td>\n",
       "      <td>52.045911</td>\n",
       "      <td>55.632870</td>\n",
       "      <td>52.043600</td>\n",
       "      <td>84.141966</td>\n",
       "      <td>52.046133</td>\n",
       "      <td>114.443472</td>\n",
       "      <td>52.458000</td>\n",
       "      <td>294.199792</td>\n",
       "      <td>52.043956</td>\n",
       "      <td>50.603446</td>\n",
       "      <td>52.045689</td>\n",
       "      <td>70.524757</td>\n",
       "    </tr>\n",
       "    <tr>\n",
       "      <th>164</th>\n",
       "      <td>53.900489</td>\n",
       "      <td>251.846942</td>\n",
       "      <td>56.225778</td>\n",
       "      <td>813.937202</td>\n",
       "      <td>53.277822</td>\n",
       "      <td>39.681526</td>\n",
       "      <td>53.299600</td>\n",
       "      <td>100.263440</td>\n",
       "      <td>53.275200</td>\n",
       "      <td>114.900532</td>\n",
       "      <td>55.005200</td>\n",
       "      <td>511.862773</td>\n",
       "      <td>53.279556</td>\n",
       "      <td>38.098471</td>\n",
       "      <td>53.357244</td>\n",
       "      <td>101.645532</td>\n",
       "    </tr>\n",
       "  </tbody>\n",
       "</table>\n",
       "<p>165 rows × 16 columns</p>\n",
       "</div>"
      ],
      "text/plain": [
       "     GT_th_0.0_sig_4_mean  GT_th_0.0_sig_4_var  GT_th_0.0_sig_8_mean  \\\n",
       "0              115.088711            43.718708            115.090844   \n",
       "1               93.955467           146.156861             94.185156   \n",
       "2              102.915378            28.935328            102.910711   \n",
       "3              111.509778           193.259593            111.509422   \n",
       "4              101.697556           143.830972            101.697556   \n",
       "..                    ...                  ...                   ...   \n",
       "160             49.031511           773.724651             56.080489   \n",
       "161             51.151511          1048.278244             61.225067   \n",
       "162             56.859244           147.289210             58.698044   \n",
       "163             52.047022           107.753611             52.604267   \n",
       "164             53.900489           251.846942             56.225778   \n",
       "\n",
       "     GT_th_0.0_sig_8_var  GT_th_1.0_sig_4_mean  GT_th_1.0_sig_4_var  \\\n",
       "0              62.517614            115.090800            37.402644   \n",
       "1             364.516917             93.954578            44.148515   \n",
       "2              66.404161            102.908578            22.504575   \n",
       "3             478.073022            111.507067           121.538039   \n",
       "4             475.109105            101.697067            20.985831   \n",
       "..                   ...                   ...                  ...   \n",
       "160          1665.175788             47.091644           302.749912   \n",
       "161          2392.708456             47.552400           224.373565   \n",
       "162           560.846512             56.832311            55.631658   \n",
       "163           331.087573             52.045911            55.632870   \n",
       "164           813.937202             53.277822            39.681526   \n",
       "\n",
       "     GT_th_1.0_sig_8_mean  GT_th_1.0_sig_8_var  GT_th_2.0_sig_4_mean  \\\n",
       "0              115.093022            78.720991            115.094578   \n",
       "1               93.955111            98.120296             93.951600   \n",
       "2              102.912622            57.516987            102.912311   \n",
       "3              111.508400           352.264063            111.504089   \n",
       "4              101.698133            56.299454            101.700489   \n",
       "..                    ...                  ...                   ...   \n",
       "160             50.228756          1058.133938             51.567067   \n",
       "161             49.230667           658.449548             49.112178   \n",
       "162             56.835200           109.260485             56.833911   \n",
       "163             52.043600            84.141966             52.046133   \n",
       "164             53.299600           100.263440             53.275200   \n",
       "\n",
       "     GT_th_2.0_sig_4_var  GT_th_2.0_sig_8_mean  GT_th_2.0_sig_8_var  \\\n",
       "0              82.537544            115.090889           151.102095   \n",
       "1             315.909435             94.904489           963.596078   \n",
       "2              91.271111            102.912978           305.688427   \n",
       "3             525.558694            112.376756          1726.584144   \n",
       "4              55.070249            101.698222           150.595686   \n",
       "..                   ...                   ...                  ...   \n",
       "160          1185.857680             55.237156          1546.824557   \n",
       "161           696.928216             56.359689          1722.998846   \n",
       "162           125.628459             57.908667           394.297214   \n",
       "163           114.443472             52.458000           294.199792   \n",
       "164           114.900532             55.005200           511.862773   \n",
       "\n",
       "     GT_th_3.0_sig_4_mean  GT_th_3.0_sig_4_var  GT_th_3.0_sig_8_mean  \\\n",
       "0              115.092578            15.989874            115.092800   \n",
       "1               93.958489            74.967432             93.960444   \n",
       "2              102.913422            10.974015            102.914044   \n",
       "3              111.507156            64.016438            111.512444   \n",
       "4              101.700133            27.961858            101.694489   \n",
       "..                    ...                  ...                   ...   \n",
       "160             47.091467           187.049412             47.615200   \n",
       "161             47.551244           249.317418             51.894711   \n",
       "162             56.836222            40.868244             56.834489   \n",
       "163             52.043956            50.603446             52.045689   \n",
       "164             53.279556            38.098471             53.357244   \n",
       "\n",
       "     GT_th_3.0_sig_8_var  \n",
       "0              18.297699  \n",
       "1             188.257369  \n",
       "2              19.266656  \n",
       "3             145.124956  \n",
       "4              79.571196  \n",
       "..                   ...  \n",
       "160           333.855040  \n",
       "161          1112.210736  \n",
       "162            68.590562  \n",
       "163            70.524757  \n",
       "164           101.645532  \n",
       "\n",
       "[165 rows x 16 columns]"
      ]
     },
     "execution_count": 31,
     "metadata": {},
     "output_type": "execute_result"
    }
   ],
   "source": [
    "result_test"
   ]
  },
  {
   "cell_type": "code",
   "execution_count": 32,
   "id": "b03d5540-e8c7-4553-ba5c-6de1cb8eed68",
   "metadata": {},
   "outputs": [],
   "source": [
    "start_TEPR_time = time.time()## точка отсчета времени\n",
    "Xtest = result_test\n",
    "\n",
    "scaler = preprocessing.StandardScaler().fit(Xtest)\n",
    "X_sc_test = scaler.transform(Xtest)\n",
    "\n",
    "Ytest = labels_test"
   ]
  },
  {
   "cell_type": "code",
   "execution_count": 33,
   "id": "4aba65f5-14c7-4b05-b74a-b2bfb6198576",
   "metadata": {},
   "outputs": [],
   "source": [
    "Y_pred_test = best_svm.predict(X_sc_test)"
   ]
  },
  {
   "cell_type": "code",
   "execution_count": 34,
   "id": "802e3786-2ea1-4426-8ba0-90a4bc90e8c7",
   "metadata": {},
   "outputs": [
    {
     "name": "stdout",
     "output_type": "stream",
     "text": [
      "              precision    recall  f1-score   support\n",
      "\n",
      "           0       0.97      0.97      0.97        33\n",
      "           1       0.92      1.00      0.96        33\n",
      "           2       0.82      0.85      0.84        33\n",
      "           3       0.76      0.94      0.84        33\n",
      "           4       1.00      0.64      0.78        33\n",
      "\n",
      "    accuracy                           0.88       165\n",
      "   macro avg       0.89      0.88      0.88       165\n",
      "weighted avg       0.89      0.88      0.88       165\n",
      "\n",
      "--- 0.03503227233886719 seconds Test_predict ---\n",
      "--- 3.422109603881836 seconds test ---\n"
     ]
    }
   ],
   "source": [
    "print(classification_report(Ytest, Y_pred_test))\n",
    "print(\"--- %s seconds Test_predict ---\" % (time.time() - start_TEPR_time))\n",
    "print(\"--- %s seconds test ---\" % (time.time() - start_TEST_time))"
   ]
  }
 ],
 "metadata": {
  "kernelspec": {
   "display_name": "Python 3 (ipykernel)",
   "language": "python",
   "name": "python3"
  },
  "language_info": {
   "codemirror_mode": {
    "name": "ipython",
    "version": 3
   },
   "file_extension": ".py",
   "mimetype": "text/x-python",
   "name": "python",
   "nbconvert_exporter": "python",
   "pygments_lexer": "ipython3",
   "version": "3.9.13"
  }
 },
 "nbformat": 4,
 "nbformat_minor": 5
}
