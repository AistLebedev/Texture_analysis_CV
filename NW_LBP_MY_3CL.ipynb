{
 "cells": [
  {
   "cell_type": "code",
   "execution_count": 1,
   "id": "c87606c2-4b5b-478d-89cb-af52bdc7d311",
   "metadata": {},
   "outputs": [],
   "source": [
    "import time #шаблон времени\n",
    "startall_time = time.time()## точка отсчета времени\n",
    "\n",
    "import os\n",
    "import cv2\n",
    "import numpy as np\n",
    "from sklearn.model_selection import train_test_split, GridSearchCV\n",
    "from sklearn.metrics import *\n",
    "from sklearn.svm import SVC\n",
    "from sklearn.neighbors import KNeighborsClassifier\n",
    "import sys\n",
    "from scipy import sqrt, pi, arctan2, cos, sin\n",
    "from scipy.ndimage import uniform_filter"
   ]
  },
  {
   "cell_type": "code",
   "execution_count": 2,
   "id": "c137b5b4-8df4-4209-bf01-c819f07b9c59",
   "metadata": {},
   "outputs": [],
   "source": [
    "def getNeighborhood(img, idx, idy, default=0):\n",
    "    try:\n",
    "        return img[idx,idy]\n",
    "    except IndexError:\n",
    "        return default\n",
    "\n",
    "def thresholded(center, pixels):\n",
    "    ret = []\n",
    "    for a in pixels:\n",
    "        if a >= center:\n",
    "            ret.append(1)\n",
    "        else:\n",
    "            ret.append(0)\n",
    "    return ret\n",
    "\n",
    "\n",
    "def lbp_c(img):\n",
    "    height, width = img.shape\n",
    "    ret = np.empty([height, width], np.uint8)\n",
    "    for x in range(0, len(img)):\n",
    "        for y in range(0, len(img[0])):\n",
    "            center        = img[x,y]\n",
    "            top_left      = getNeighborhood(img, x-1, y-1)\n",
    "            top_middle    = getNeighborhood(img, x, y-1)\n",
    "            top_right     = getNeighborhood(img, x+1, y-1)\n",
    "            right         = getNeighborhood(img, x+1, y )\n",
    "            left          = getNeighborhood(img, x-1, y )\n",
    "            bottom_left   = getNeighborhood(img, x-1, y+1)\n",
    "            bottom_right  = getNeighborhood(img, x+1, y+1)\n",
    "            bottom_middle = getNeighborhood(img, x,   y+1)\n",
    "\n",
    "            values = thresholded(center, [top_left, top_middle, top_right, right, bottom_right,\n",
    "                                          bottom_middle, bottom_left, left])\n",
    "\n",
    "            weights = [1, 2, 4, 8, 16, 32, 64, 128]\n",
    "            res = 0\n",
    "            for a in range(0, len(values)):\n",
    "                res += weights[a] * values[a]\n",
    "            ret.itemset((x,y), res)\n",
    "    return ret"
   ]
  },
  {
   "cell_type": "markdown",
   "id": "a521e248-24cc-42ff-a72d-c7e086b18fe3",
   "metadata": {},
   "source": [
    "## Load and preprocessing image ##"
   ]
  },
  {
   "cell_type": "code",
   "execution_count": 3,
   "id": "5d75332c-7c74-476b-a18c-fd6c3482c9b5",
   "metadata": {},
   "outputs": [],
   "source": [
    "def LaP_images(path):\n",
    "    images = []\n",
    "    filenames = os.listdir(path)\n",
    "    for filename in filenames:    \n",
    "        image = cv2.imread(os.path.join(path, filename),0)\n",
    "        image = cv2.resize(image, dsize=(150,150))\n",
    "        images.append(image)\n",
    "    return np.array(images)"
   ]
  },
  {
   "cell_type": "code",
   "execution_count": 4,
   "id": "66cfb93c-06c2-4aa8-9355-0316dc385a02",
   "metadata": {},
   "outputs": [],
   "source": [
    "start_LaP_time = time.time()## точка отсчета времени\n",
    "foil_train_dir = os.getcwd() + \"\\\\Desert\"\n",
    "corduroy_train_dir = os.getcwd() + \"\\\\DenseResidential\"\n",
    "cork_train_dir = os.getcwd() + \"\\\\Forest\"\n",
    "catton_train_dir = os.getcwd() + \"\\\\Meadow\"\n",
    "linen_train_dir = os.getcwd() + \"\\\\River\""
   ]
  },
  {
   "cell_type": "code",
   "execution_count": 5,
   "id": "048c128f-8019-4d52-a60f-c956047ddbb2",
   "metadata": {},
   "outputs": [],
   "source": [
    "foil_train_list = LaP_images(foil_train_dir)\n",
    "corduroy_train_list = LaP_images(corduroy_train_dir)\n",
    "cork_train_list = LaP_images(cork_train_dir)\n",
    "catton_train_list = LaP_images(catton_train_dir)\n",
    "linen_train_list = LaP_images(linen_train_dir)"
   ]
  },
  {
   "cell_type": "code",
   "execution_count": 6,
   "id": "b61466a9-98e5-4ecc-890d-221d2f6b40cc",
   "metadata": {},
   "outputs": [
    {
     "name": "stdout",
     "output_type": "stream",
     "text": [
      "150\n",
      "217\n",
      "217\n",
      "217\n",
      "217\n",
      "217\n"
     ]
    }
   ],
   "source": [
    "print(len(foil_train_list[1]))\n",
    "print(len(foil_train_list))\n",
    "print(len(corduroy_train_list))\n",
    "print(len(cork_train_list))\n",
    "print(len(catton_train_list))\n",
    "print(len(linen_train_list))"
   ]
  },
  {
   "cell_type": "markdown",
   "id": "a8ceaec2-3663-47fb-a8e1-094c31f9f559",
   "metadata": {},
   "source": [
    "### All image in one array ###"
   ]
  },
  {
   "cell_type": "code",
   "execution_count": 7,
   "id": "82cfe2b4-3bfd-4508-a039-f67b98516225",
   "metadata": {},
   "outputs": [
    {
     "name": "stdout",
     "output_type": "stream",
     "text": [
      "(1085, 150, 150) Shape before extract\n"
     ]
    }
   ],
   "source": [
    "start_EX_time = time.time()## точка отсчета времени\n",
    "all_images = np.vstack((foil_train_list,\n",
    "                        corduroy_train_list,\n",
    "                        cork_train_list,\n",
    "                        catton_train_list,\n",
    "                        linen_train_list\n",
    "                        ))\n",
    "print(all_images.shape,\"Shape before extract\")"
   ]
  },
  {
   "cell_type": "code",
   "execution_count": 8,
   "id": "019db5fb-9b83-445d-afbb-b6e3739203c9",
   "metadata": {},
   "outputs": [
    {
     "name": "stdout",
     "output_type": "stream",
     "text": [
      "--- 3.2479512691497803 seconds Load and preprocessing ---\n"
     ]
    }
   ],
   "source": [
    "labels = []\n",
    "for i in range(len(foil_train_list)):\n",
    "    labels.append(0)\n",
    "for i in range(len(corduroy_train_list)):\n",
    "    labels.append(1)\n",
    "for i in range(len(cork_train_list)):\n",
    "    labels.append(2)\n",
    "for i in range(len(catton_train_list)):\n",
    "    labels.append(3)\n",
    "for i in range(len(linen_train_list)):\n",
    "    labels.append(4)\n",
    "    \n",
    "labels = np.array(labels)\n",
    "print(\"--- %s seconds Load and preprocessing ---\" % (time.time() - start_LaP_time)) ## вывод время работы программы"
   ]
  },
  {
   "cell_type": "markdown",
   "id": "d533eddb-fc64-4157-9e70-a0e5809e42d3",
   "metadata": {},
   "source": [
    "## Extract LBP features ##"
   ]
  },
  {
   "cell_type": "code",
   "execution_count": 9,
   "id": "00e348f1-2e9d-4117-bfd6-92b40f434288",
   "metadata": {},
   "outputs": [],
   "source": [
    "def extract_lbp(images):\n",
    "    lbps = []\n",
    "    for image in images:\n",
    "        lbp = lbp_c(image)\n",
    "        lbps.append(lbp)\n",
    "    \n",
    "    return np.array(lbps)"
   ]
  },
  {
   "cell_type": "code",
   "execution_count": 10,
   "id": "daf43ce9-369f-4983-9bb2-b951a6234067",
   "metadata": {},
   "outputs": [
    {
     "name": "stdout",
     "output_type": "stream",
     "text": [
      "--- 78.31314444541931 seconds Extract LBP ---\n"
     ]
    }
   ],
   "source": [
    "\n",
    "start_EX_time = time.time()## точка отсчета времени\n",
    "X_all_lbp = extract_lbp(all_images)\n",
    "print(\"--- %s seconds Extract LBP ---\" % (time.time() - start_EX_time)) ## вывод время работы программы"
   ]
  },
  {
   "cell_type": "code",
   "execution_count": 11,
   "id": "94306ac4-efb0-46b9-ba76-c0732d45d2a2",
   "metadata": {},
   "outputs": [
    {
     "data": {
      "text/plain": [
       "(1085, 150, 150)"
      ]
     },
     "execution_count": 11,
     "metadata": {},
     "output_type": "execute_result"
    }
   ],
   "source": [
    "X_all_lbp.shape"
   ]
  },
  {
   "cell_type": "markdown",
   "id": "77985a74-676b-43b0-ae80-64531b9004c9",
   "metadata": {},
   "source": [
    " ### Making general histogram ###"
   ]
  },
  {
   "cell_type": "code",
   "execution_count": 12,
   "id": "f3cc1eaa-1815-4890-a7c9-89c11ab03ab5",
   "metadata": {},
   "outputs": [],
   "source": [
    "def create_histograms(images, sub_images_num, bins_per_sub_images):\n",
    "    all_histograms = []\n",
    "    for image in images:\n",
    "        grid = np.arange(0, image.shape[1]+1, image.shape[1]//sub_images_num) #Возвращает равномерно распределенные значения в пределах заданного интервала.(0,151,50) sub_images_num-на сколько областей^2\n",
    "\n",
    "        sub_image_histograms = []\n",
    "\n",
    "        for i in range(1, len(grid)):\n",
    "            for j in range(1, len(grid)):\n",
    "                sub_image = image[grid[i-1]:grid[i], grid[j-1]:grid[j]]\n",
    "\n",
    "                sub_image_histogram = np.histogram(sub_image, bins=bins_per_sub_images)[0] # разбивает диапозон на 64 части(шаг = 4) и смотрит кол-во вхождекний\n",
    "                sub_image_histograms.append(sub_image_histogram)\n",
    "\n",
    "        histogram = np.array(sub_image_histograms).flatten()\n",
    "        all_histograms.append(histogram)\n",
    "        \n",
    "    return np.array(all_histograms)"
   ]
  },
  {
   "cell_type": "markdown",
   "id": "63473369-2488-4421-89be-9f230a13270e",
   "metadata": {},
   "source": [
    ">1.Разбиваем изображение 150:150 на 9 областей(50:50)(строим сетку) <br>\n",
    "2.Проходимся по каждой области и строим там гистограмму распредления(кол-во вхождекний) получившихся \"переходов света лбп\". Сами задаем интервалы в гистограмме(bins) <br>\n",
    "3.Гистограмму из каждой области добавляем в лист и склеиваем. <br>\n",
    "4.Получаем общую гистограмму изображения."
   ]
  },
  {
   "cell_type": "code",
   "execution_count": 13,
   "id": "025e1edb-5735-4a2f-822a-4fded7b6b23c",
   "metadata": {},
   "outputs": [
    {
     "name": "stdout",
     "output_type": "stream",
     "text": [
      "X_train_hist\t (1085, 756)\n",
      "--- 1.1210179328918457 seconds Histofram ---\n"
     ]
    }
   ],
   "source": [
    "start_HIST_time = time.time()## точка отсчета времени\n",
    "\n",
    "X_train_hist = create_histograms(X_all_lbp, sub_images_num=3, bins_per_sub_images=84)\n",
    "\n",
    "\n",
    "print('X_train_hist\\t', X_train_hist.shape)\n",
    "\n",
    "print(\"--- %s seconds Histofram ---\" % (time.time() - start_HIST_time)) ## вывод время работы программы"
   ]
  },
  {
   "cell_type": "markdown",
   "id": "78257eb1-b6eb-456c-8800-c6e1d773c2d1",
   "metadata": {},
   "source": [
    "## Classification ##"
   ]
  },
  {
   "cell_type": "code",
   "execution_count": 14,
   "id": "3d9de420-8222-40db-bc86-ef5ae8e1de00",
   "metadata": {},
   "outputs": [
    {
     "name": "stdout",
     "output_type": "stream",
     "text": [
      "X_train.shape\t (759, 756)\n",
      "X_test.shape\t (326, 756)\n",
      "y_train.shape\t (759,)\n",
      "y_test.shape\t (326,)\n"
     ]
    }
   ],
   "source": [
    "X_train, X_test, y_train, y_test = train_test_split(X_train_hist, \n",
    "                                                    labels, \n",
    "                                                    test_size=0.3)\n",
    "\n",
    "print('X_train.shape\\t', X_train.shape)\n",
    "print('X_test.shape\\t', X_test.shape)\n",
    "print('y_train.shape\\t', y_train.shape)\n",
    "print('y_test.shape\\t', y_test.shape)\n"
   ]
  },
  {
   "cell_type": "code",
   "execution_count": 15,
   "id": "a0b2d62d-7e34-4a41-9378-b331dd550576",
   "metadata": {},
   "outputs": [
    {
     "name": "stdout",
     "output_type": "stream",
     "text": [
      "Accuracy: 0.7147239263803681\n",
      "              precision    recall  f1-score   support\n",
      "\n",
      "           0       0.87      0.61      0.72        64\n",
      "           1       0.66      0.91      0.76        69\n",
      "           2       0.91      0.66      0.76        61\n",
      "           3       0.77      0.79      0.78        70\n",
      "           4       0.51      0.58      0.55        62\n",
      "\n",
      "    accuracy                           0.71       326\n",
      "   macro avg       0.74      0.71      0.71       326\n",
      "weighted avg       0.74      0.71      0.72       326\n",
      "\n",
      "--- 0.06505918502807617 seconds Predict time ---\n"
     ]
    }
   ],
   "source": [
    "\n",
    "\n",
    "model_svm = SVC()\n",
    "best_svm = model_svm.fit(X_train, y_train)\n",
    "start_PR_time = time.time()## точка отсчета времени\n",
    "Y_pred_svm = best_svm.predict(X_test)\n",
    "print(\"Accuracy:\",accuracy_score(y_test, Y_pred_svm))\n",
    "print(classification_report(y_test, Y_pred_svm))\n",
    "\n",
    "print(\"--- %s seconds Predict time ---\" % (time.time() - start_PR_time)) ## вывод время работы программы"
   ]
  },
  {
   "cell_type": "code",
   "execution_count": 16,
   "id": "4c86378a-f39f-4811-9fe4-ae06b889b095",
   "metadata": {},
   "outputs": [
    {
     "name": "stdout",
     "output_type": "stream",
     "text": [
      "--- 83.39075660705566 seconds ALL  ---\n"
     ]
    }
   ],
   "source": [
    "print(\"--- %s seconds ALL  ---\" % (time.time() - startall_time)) ## вывод время работы программы"
   ]
  },
  {
   "cell_type": "code",
   "execution_count": 17,
   "id": "a36c4731-1e21-4c83-9a1c-5b4539ddc2ee",
   "metadata": {},
   "outputs": [
    {
     "name": "stdout",
     "output_type": "stream",
     "text": [
      "KNN train acc\t: 1.0\n",
      "KNN test acc\t: 0.7822085889570553\n",
      "--- 0.034030914306640625 seconds KNN ---\n"
     ]
    }
   ],
   "source": [
    "start_KNN_time = time.time()## точка отсчета времени\n",
    "\n",
    "model_knn = KNeighborsClassifier(n_neighbors=1)\n",
    "model_knn.fit(X_train, y_train)\n",
    "\n",
    "print('KNN train acc\\t:', model_knn.score(X_train, y_train))\n",
    "print('KNN test acc\\t:', model_knn.score(X_test, y_test))\n",
    "\n",
    "print(\"--- %s seconds KNN ---\" % (time.time() - start_KNN_time)) ## вывод время работы программы"
   ]
  },
  {
   "cell_type": "code",
   "execution_count": 24,
   "id": "c4a5065c-c5ac-4ae2-96f1-45fc95ba9a1e",
   "metadata": {},
   "outputs": [],
   "source": [
    "start_TEST_time = time.time()## точка отсчета времени\n",
    "\n",
    "foil_test_dir = os.getcwd() + \"\\\\Desert_test\"\n",
    "corduroy_test_dir = os.getcwd() + \"\\\\DenseResidential_test\"\n",
    "cork_test_dir = os.getcwd() + \"\\\\Forest_test\"\n",
    "catton_test_dir = os.getcwd() + \"\\\\Meadow_test\"\n",
    "linen_test_dir = os.getcwd() + \"\\\\River_test\"\n",
    "\n",
    "\n",
    "foil_test_list = LaP_images(foil_test_dir)\n",
    "corduroy_test_list = LaP_images(corduroy_test_dir)\n",
    "cork_test_list = LaP_images(cork_test_dir)\n",
    "catton_test_list = LaP_images(catton_test_dir)\n",
    "linen_test_list = LaP_images(linen_test_dir)\n",
    "\n",
    "\n",
    "all_test_images = np.vstack((foil_test_list,\n",
    "                        corduroy_test_list,\n",
    "                        cork_test_list,\n",
    "                        catton_test_list,\n",
    "                        linen_test_list\n",
    "                        ))\n",
    "\n",
    "labels_test = []\n",
    "for i in range(len(foil_test_list)):\n",
    "    labels_test.append(0)\n",
    "for i in range(len(corduroy_test_list)):\n",
    "    labels_test.append(1)\n",
    "for i in range(len(cork_test_list)):\n",
    "    labels_test.append(2)\n",
    "for i in range(len(catton_test_list)):\n",
    "    labels_test.append(3)\n",
    "for i in range(len(linen_test_list)):\n",
    "    labels_test.append(4)\n",
    "\n",
    "    \n",
    "labels_test = np.array(labels_test)"
   ]
  },
  {
   "cell_type": "code",
   "execution_count": 25,
   "id": "b0a2528c-6143-46ab-9026-91eada500dac",
   "metadata": {},
   "outputs": [],
   "source": [
    "X_test_lbp = extract_lbp(all_test_images)"
   ]
  },
  {
   "cell_type": "code",
   "execution_count": 26,
   "id": "22b0714d-744c-4886-acd9-8105cc2393bc",
   "metadata": {},
   "outputs": [
    {
     "data": {
      "text/plain": [
       "(165, 150, 150)"
      ]
     },
     "execution_count": 26,
     "metadata": {},
     "output_type": "execute_result"
    }
   ],
   "source": [
    "X_test_lbp.shape"
   ]
  },
  {
   "cell_type": "code",
   "execution_count": 27,
   "id": "30a3d5c0-7a2e-4f06-98c1-cb1db8ab96b6",
   "metadata": {},
   "outputs": [],
   "source": [
    "X_test_hist = create_histograms(X_test_lbp, sub_images_num=3, bins_per_sub_images=84)"
   ]
  },
  {
   "cell_type": "code",
   "execution_count": 28,
   "id": "26932b38-9c92-4af9-af6c-a2e9b42e450b",
   "metadata": {},
   "outputs": [],
   "source": [
    "start_TEPR_time = time.time()## точка отсчета времени\n",
    "\n",
    "X_sc_test = X_test_hist\n",
    "\n",
    "Ytest = labels_test\n",
    "Y_pred_test = best_svm.predict(X_sc_test)"
   ]
  },
  {
   "cell_type": "code",
   "execution_count": 29,
   "id": "97e10c00-ddf5-4b81-90d8-bbc33b0fda91",
   "metadata": {},
   "outputs": [
    {
     "name": "stdout",
     "output_type": "stream",
     "text": [
      "              precision    recall  f1-score   support\n",
      "\n",
      "           0       0.95      0.55      0.69        33\n",
      "           1       0.66      0.88      0.75        33\n",
      "           2       0.77      0.73      0.75        33\n",
      "           3       0.58      0.88      0.70        33\n",
      "           4       0.71      0.45      0.56        33\n",
      "\n",
      "    accuracy                           0.70       165\n",
      "   macro avg       0.73      0.70      0.69       165\n",
      "weighted avg       0.73      0.70      0.69       165\n",
      "\n",
      "--- 0.05004525184631348 seconds Test_predict ---\n",
      "--- 12.265142440795898 seconds test ---\n"
     ]
    }
   ],
   "source": [
    "print(classification_report(Ytest, Y_pred_test))\n",
    "print(\"--- %s seconds Test_predict ---\" % (time.time() - start_TEPR_time))\n",
    "print(\"--- %s seconds test ---\" % (time.time() - start_TEST_time))"
   ]
  },
  {
   "cell_type": "code",
   "execution_count": null,
   "id": "287436e3-997f-4874-b6d1-a2c925bd50a8",
   "metadata": {},
   "outputs": [],
   "source": []
  },
  {
   "cell_type": "code",
   "execution_count": null,
   "id": "dc0aa06b-aaad-48e1-a2a8-39190217912f",
   "metadata": {},
   "outputs": [],
   "source": []
  }
 ],
 "metadata": {
  "kernelspec": {
   "display_name": "Python 3 (ipykernel)",
   "language": "python",
   "name": "python3"
  },
  "language_info": {
   "codemirror_mode": {
    "name": "ipython",
    "version": 3
   },
   "file_extension": ".py",
   "mimetype": "text/x-python",
   "name": "python",
   "nbconvert_exporter": "python",
   "pygments_lexer": "ipython3",
   "version": "3.9.13"
  }
 },
 "nbformat": 4,
 "nbformat_minor": 5
}
